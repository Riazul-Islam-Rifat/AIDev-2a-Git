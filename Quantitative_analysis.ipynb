{
  "cells": [
    {
      "cell_type": "markdown",
      "source": [
        "# Collecting & Understanding the Data"
      ],
      "metadata": {
        "id": "FFR-E2Ohbw2p"
      },
      "id": "FFR-E2Ohbw2p"
    },
    {
      "cell_type": "code",
      "source": [
        "from google.colab import drive\n",
        "drive.mount('/content/drive')"
      ],
      "metadata": {
        "colab": {
          "base_uri": "https://localhost:8080/"
        },
        "id": "jbCdQ9l1dmrp",
        "outputId": "aa7daaf7-9ca0-47cd-9c69-93737db9fab1"
      },
      "id": "jbCdQ9l1dmrp",
      "execution_count": null,
      "outputs": [
        {
          "output_type": "stream",
          "name": "stdout",
          "text": [
            "Mounted at /content/drive\n"
          ]
        }
      ]
    },
    {
      "cell_type": "code",
      "execution_count": null,
      "id": "2bf1f01d-d4a2-4622-b3b2-85b24ada809e",
      "metadata": {
        "colab": {
          "base_uri": "https://localhost:8080/"
        },
        "id": "2bf1f01d-d4a2-4622-b3b2-85b24ada809e",
        "outputId": "d77f3e4c-cfab-470c-e3f5-6dcc867e1041"
      },
      "outputs": [
        {
          "output_type": "stream",
          "name": "stdout",
          "text": [
            "Requirement already satisfied: huggingface_hub in /usr/local/lib/python3.12/dist-packages (0.35.0)\n",
            "Collecting huggingface_hub\n",
            "  Downloading huggingface_hub-0.35.1-py3-none-any.whl.metadata (14 kB)\n",
            "Requirement already satisfied: filelock in /usr/local/lib/python3.12/dist-packages (from huggingface_hub) (3.19.1)\n",
            "Requirement already satisfied: fsspec>=2023.5.0 in /usr/local/lib/python3.12/dist-packages (from huggingface_hub) (2025.3.0)\n",
            "Requirement already satisfied: packaging>=20.9 in /usr/local/lib/python3.12/dist-packages (from huggingface_hub) (25.0)\n",
            "Requirement already satisfied: pyyaml>=5.1 in /usr/local/lib/python3.12/dist-packages (from huggingface_hub) (6.0.2)\n",
            "Requirement already satisfied: requests in /usr/local/lib/python3.12/dist-packages (from huggingface_hub) (2.32.4)\n",
            "Requirement already satisfied: tqdm>=4.42.1 in /usr/local/lib/python3.12/dist-packages (from huggingface_hub) (4.67.1)\n",
            "Requirement already satisfied: typing-extensions>=3.7.4.3 in /usr/local/lib/python3.12/dist-packages (from huggingface_hub) (4.15.0)\n",
            "Requirement already satisfied: hf-xet<2.0.0,>=1.1.3 in /usr/local/lib/python3.12/dist-packages (from huggingface_hub) (1.1.10)\n",
            "Requirement already satisfied: charset_normalizer<4,>=2 in /usr/local/lib/python3.12/dist-packages (from requests->huggingface_hub) (3.4.3)\n",
            "Requirement already satisfied: idna<4,>=2.5 in /usr/local/lib/python3.12/dist-packages (from requests->huggingface_hub) (3.10)\n",
            "Requirement already satisfied: urllib3<3,>=1.21.1 in /usr/local/lib/python3.12/dist-packages (from requests->huggingface_hub) (2.5.0)\n",
            "Requirement already satisfied: certifi>=2017.4.17 in /usr/local/lib/python3.12/dist-packages (from requests->huggingface_hub) (2025.8.3)\n",
            "Downloading huggingface_hub-0.35.1-py3-none-any.whl (563 kB)\n",
            "\u001b[2K   \u001b[90m━━━━━━━━━━━━━━━━━━━━━━━━━━━━━━━━━━━━━━━━\u001b[0m \u001b[32m563.3/563.3 kB\u001b[0m \u001b[31m10.6 MB/s\u001b[0m eta \u001b[36m0:00:00\u001b[0m\n",
            "\u001b[?25hInstalling collected packages: huggingface_hub\n",
            "  Attempting uninstall: huggingface_hub\n",
            "    Found existing installation: huggingface-hub 0.35.0\n",
            "    Uninstalling huggingface-hub-0.35.0:\n",
            "      Successfully uninstalled huggingface-hub-0.35.0\n",
            "Successfully installed huggingface_hub-0.35.1\n"
          ]
        }
      ],
      "source": [
        "!pip install --upgrade huggingface_hub"
      ]
    },
    {
      "cell_type": "code",
      "execution_count": null,
      "id": "004253cb-ce11-42bf-aa7f-bebd8402d3f8",
      "metadata": {
        "id": "004253cb-ce11-42bf-aa7f-bebd8402d3f8",
        "colab": {
          "base_uri": "https://localhost:8080/",
          "height": 386
        },
        "outputId": "be53c082-3ec7-42f3-8261-31e40876c30f"
      },
      "outputs": [
        {
          "output_type": "stream",
          "name": "stderr",
          "text": [
            "/usr/local/lib/python3.12/dist-packages/huggingface_hub/utils/_auth.py:94: UserWarning: \n",
            "The secret `HF_TOKEN` does not exist in your Colab secrets.\n",
            "To authenticate with the Hugging Face Hub, create a token in your settings tab (https://huggingface.co/settings/tokens), set it as secret in your Google Colab and restart your session.\n",
            "You will be able to reuse this secret in all of your notebooks.\n",
            "Please note that authentication is recommended but still optional to access public models or datasets.\n",
            "  warnings.warn(\n"
          ]
        },
        {
          "output_type": "execute_result",
          "data": {
            "text/plain": [
              "           id  number                                              title  \\\n",
              "0  3264016139    1688  `metta code` --> `metta clip` and additional p...   \n",
              "1  3264021033      41  feat: Comprehensive ruff error resolution with...   \n",
              "2  3264042289    1600  Add Evals frontend implementation plan and HTM...   \n",
              "\n",
              "                                                body        agent    user_id  \\\n",
              "0  Remove unused `root_key` variable to fix ruff ...  Claude_Code      37011   \n",
              "1  ## 🎯 Mission Accomplished: 100% Ruff Error Res...  Claude_Code  131842369   \n",
              "2  \\nCreate comprehensive implementation plan for...  Claude_Code    6766889   \n",
              "\n",
              "            user   state            created_at             closed_at  \\\n",
              "0  jacklionheart  closed  2025-07-25T18:15:36Z  2025-07-25T19:17:23Z   \n",
              "1      Draco3310    open  2025-07-25T18:17:57Z                  None   \n",
              "2      justicart  closed  2025-07-25T18:26:15Z  2025-07-25T23:19:14Z   \n",
              "\n",
              "              merged_at      repo_id  \\\n",
              "0  2025-07-25T19:17:23Z  843988367.0   \n",
              "1                  None  992063465.0   \n",
              "2                  None  926711750.0   \n",
              "\n",
              "                                            repo_url  \\\n",
              "0        https://api.github.com/repos/Metta-AI/metta   \n",
              "1  https://api.github.com/repos/Draco3310/Gal-Fri...   \n",
              "2  https://api.github.com/repos/bolt-foundry/bolt...   \n",
              "\n",
              "                                            html_url  \n",
              "0        https://github.com/Metta-AI/metta/pull/1688  \n",
              "1   https://github.com/Draco3310/Gal-Friday2/pull/41  \n",
              "2  https://github.com/bolt-foundry/bolt-foundry/p...  "
            ],
            "text/html": [
              "\n",
              "  <div id=\"df-5735c31f-3c0a-462a-b448-20fe85483382\" class=\"colab-df-container\">\n",
              "    <div>\n",
              "<style scoped>\n",
              "    .dataframe tbody tr th:only-of-type {\n",
              "        vertical-align: middle;\n",
              "    }\n",
              "\n",
              "    .dataframe tbody tr th {\n",
              "        vertical-align: top;\n",
              "    }\n",
              "\n",
              "    .dataframe thead th {\n",
              "        text-align: right;\n",
              "    }\n",
              "</style>\n",
              "<table border=\"1\" class=\"dataframe\">\n",
              "  <thead>\n",
              "    <tr style=\"text-align: right;\">\n",
              "      <th></th>\n",
              "      <th>id</th>\n",
              "      <th>number</th>\n",
              "      <th>title</th>\n",
              "      <th>body</th>\n",
              "      <th>agent</th>\n",
              "      <th>user_id</th>\n",
              "      <th>user</th>\n",
              "      <th>state</th>\n",
              "      <th>created_at</th>\n",
              "      <th>closed_at</th>\n",
              "      <th>merged_at</th>\n",
              "      <th>repo_id</th>\n",
              "      <th>repo_url</th>\n",
              "      <th>html_url</th>\n",
              "    </tr>\n",
              "  </thead>\n",
              "  <tbody>\n",
              "    <tr>\n",
              "      <th>0</th>\n",
              "      <td>3264016139</td>\n",
              "      <td>1688</td>\n",
              "      <td>`metta code` --&gt; `metta clip` and additional p...</td>\n",
              "      <td>Remove unused `root_key` variable to fix ruff ...</td>\n",
              "      <td>Claude_Code</td>\n",
              "      <td>37011</td>\n",
              "      <td>jacklionheart</td>\n",
              "      <td>closed</td>\n",
              "      <td>2025-07-25T18:15:36Z</td>\n",
              "      <td>2025-07-25T19:17:23Z</td>\n",
              "      <td>2025-07-25T19:17:23Z</td>\n",
              "      <td>843988367.0</td>\n",
              "      <td>https://api.github.com/repos/Metta-AI/metta</td>\n",
              "      <td>https://github.com/Metta-AI/metta/pull/1688</td>\n",
              "    </tr>\n",
              "    <tr>\n",
              "      <th>1</th>\n",
              "      <td>3264021033</td>\n",
              "      <td>41</td>\n",
              "      <td>feat: Comprehensive ruff error resolution with...</td>\n",
              "      <td>## 🎯 Mission Accomplished: 100% Ruff Error Res...</td>\n",
              "      <td>Claude_Code</td>\n",
              "      <td>131842369</td>\n",
              "      <td>Draco3310</td>\n",
              "      <td>open</td>\n",
              "      <td>2025-07-25T18:17:57Z</td>\n",
              "      <td>None</td>\n",
              "      <td>None</td>\n",
              "      <td>992063465.0</td>\n",
              "      <td>https://api.github.com/repos/Draco3310/Gal-Fri...</td>\n",
              "      <td>https://github.com/Draco3310/Gal-Friday2/pull/41</td>\n",
              "    </tr>\n",
              "    <tr>\n",
              "      <th>2</th>\n",
              "      <td>3264042289</td>\n",
              "      <td>1600</td>\n",
              "      <td>Add Evals frontend implementation plan and HTM...</td>\n",
              "      <td>\\nCreate comprehensive implementation plan for...</td>\n",
              "      <td>Claude_Code</td>\n",
              "      <td>6766889</td>\n",
              "      <td>justicart</td>\n",
              "      <td>closed</td>\n",
              "      <td>2025-07-25T18:26:15Z</td>\n",
              "      <td>2025-07-25T23:19:14Z</td>\n",
              "      <td>None</td>\n",
              "      <td>926711750.0</td>\n",
              "      <td>https://api.github.com/repos/bolt-foundry/bolt...</td>\n",
              "      <td>https://github.com/bolt-foundry/bolt-foundry/p...</td>\n",
              "    </tr>\n",
              "  </tbody>\n",
              "</table>\n",
              "</div>\n",
              "    <div class=\"colab-df-buttons\">\n",
              "\n",
              "  <div class=\"colab-df-container\">\n",
              "    <button class=\"colab-df-convert\" onclick=\"convertToInteractive('df-5735c31f-3c0a-462a-b448-20fe85483382')\"\n",
              "            title=\"Convert this dataframe to an interactive table.\"\n",
              "            style=\"display:none;\">\n",
              "\n",
              "  <svg xmlns=\"http://www.w3.org/2000/svg\" height=\"24px\" viewBox=\"0 -960 960 960\">\n",
              "    <path d=\"M120-120v-720h720v720H120Zm60-500h600v-160H180v160Zm220 220h160v-160H400v160Zm0 220h160v-160H400v160ZM180-400h160v-160H180v160Zm440 0h160v-160H620v160ZM180-180h160v-160H180v160Zm440 0h160v-160H620v160Z\"/>\n",
              "  </svg>\n",
              "    </button>\n",
              "\n",
              "  <style>\n",
              "    .colab-df-container {\n",
              "      display:flex;\n",
              "      gap: 12px;\n",
              "    }\n",
              "\n",
              "    .colab-df-convert {\n",
              "      background-color: #E8F0FE;\n",
              "      border: none;\n",
              "      border-radius: 50%;\n",
              "      cursor: pointer;\n",
              "      display: none;\n",
              "      fill: #1967D2;\n",
              "      height: 32px;\n",
              "      padding: 0 0 0 0;\n",
              "      width: 32px;\n",
              "    }\n",
              "\n",
              "    .colab-df-convert:hover {\n",
              "      background-color: #E2EBFA;\n",
              "      box-shadow: 0px 1px 2px rgba(60, 64, 67, 0.3), 0px 1px 3px 1px rgba(60, 64, 67, 0.15);\n",
              "      fill: #174EA6;\n",
              "    }\n",
              "\n",
              "    .colab-df-buttons div {\n",
              "      margin-bottom: 4px;\n",
              "    }\n",
              "\n",
              "    [theme=dark] .colab-df-convert {\n",
              "      background-color: #3B4455;\n",
              "      fill: #D2E3FC;\n",
              "    }\n",
              "\n",
              "    [theme=dark] .colab-df-convert:hover {\n",
              "      background-color: #434B5C;\n",
              "      box-shadow: 0px 1px 3px 1px rgba(0, 0, 0, 0.15);\n",
              "      filter: drop-shadow(0px 1px 2px rgba(0, 0, 0, 0.3));\n",
              "      fill: #FFFFFF;\n",
              "    }\n",
              "  </style>\n",
              "\n",
              "    <script>\n",
              "      const buttonEl =\n",
              "        document.querySelector('#df-5735c31f-3c0a-462a-b448-20fe85483382 button.colab-df-convert');\n",
              "      buttonEl.style.display =\n",
              "        google.colab.kernel.accessAllowed ? 'block' : 'none';\n",
              "\n",
              "      async function convertToInteractive(key) {\n",
              "        const element = document.querySelector('#df-5735c31f-3c0a-462a-b448-20fe85483382');\n",
              "        const dataTable =\n",
              "          await google.colab.kernel.invokeFunction('convertToInteractive',\n",
              "                                                    [key], {});\n",
              "        if (!dataTable) return;\n",
              "\n",
              "        const docLinkHtml = 'Like what you see? Visit the ' +\n",
              "          '<a target=\"_blank\" href=https://colab.research.google.com/notebooks/data_table.ipynb>data table notebook</a>'\n",
              "          + ' to learn more about interactive tables.';\n",
              "        element.innerHTML = '';\n",
              "        dataTable['output_type'] = 'display_data';\n",
              "        await google.colab.output.renderOutput(dataTable, element);\n",
              "        const docLink = document.createElement('div');\n",
              "        docLink.innerHTML = docLinkHtml;\n",
              "        element.appendChild(docLink);\n",
              "      }\n",
              "    </script>\n",
              "  </div>\n",
              "\n",
              "\n",
              "    <div id=\"df-5eece32c-27c8-4742-8b41-dcf67e833c1d\">\n",
              "      <button class=\"colab-df-quickchart\" onclick=\"quickchart('df-5eece32c-27c8-4742-8b41-dcf67e833c1d')\"\n",
              "                title=\"Suggest charts\"\n",
              "                style=\"display:none;\">\n",
              "\n",
              "<svg xmlns=\"http://www.w3.org/2000/svg\" height=\"24px\"viewBox=\"0 0 24 24\"\n",
              "     width=\"24px\">\n",
              "    <g>\n",
              "        <path d=\"M19 3H5c-1.1 0-2 .9-2 2v14c0 1.1.9 2 2 2h14c1.1 0 2-.9 2-2V5c0-1.1-.9-2-2-2zM9 17H7v-7h2v7zm4 0h-2V7h2v10zm4 0h-2v-4h2v4z\"/>\n",
              "    </g>\n",
              "</svg>\n",
              "      </button>\n",
              "\n",
              "<style>\n",
              "  .colab-df-quickchart {\n",
              "      --bg-color: #E8F0FE;\n",
              "      --fill-color: #1967D2;\n",
              "      --hover-bg-color: #E2EBFA;\n",
              "      --hover-fill-color: #174EA6;\n",
              "      --disabled-fill-color: #AAA;\n",
              "      --disabled-bg-color: #DDD;\n",
              "  }\n",
              "\n",
              "  [theme=dark] .colab-df-quickchart {\n",
              "      --bg-color: #3B4455;\n",
              "      --fill-color: #D2E3FC;\n",
              "      --hover-bg-color: #434B5C;\n",
              "      --hover-fill-color: #FFFFFF;\n",
              "      --disabled-bg-color: #3B4455;\n",
              "      --disabled-fill-color: #666;\n",
              "  }\n",
              "\n",
              "  .colab-df-quickchart {\n",
              "    background-color: var(--bg-color);\n",
              "    border: none;\n",
              "    border-radius: 50%;\n",
              "    cursor: pointer;\n",
              "    display: none;\n",
              "    fill: var(--fill-color);\n",
              "    height: 32px;\n",
              "    padding: 0;\n",
              "    width: 32px;\n",
              "  }\n",
              "\n",
              "  .colab-df-quickchart:hover {\n",
              "    background-color: var(--hover-bg-color);\n",
              "    box-shadow: 0 1px 2px rgba(60, 64, 67, 0.3), 0 1px 3px 1px rgba(60, 64, 67, 0.15);\n",
              "    fill: var(--button-hover-fill-color);\n",
              "  }\n",
              "\n",
              "  .colab-df-quickchart-complete:disabled,\n",
              "  .colab-df-quickchart-complete:disabled:hover {\n",
              "    background-color: var(--disabled-bg-color);\n",
              "    fill: var(--disabled-fill-color);\n",
              "    box-shadow: none;\n",
              "  }\n",
              "\n",
              "  .colab-df-spinner {\n",
              "    border: 2px solid var(--fill-color);\n",
              "    border-color: transparent;\n",
              "    border-bottom-color: var(--fill-color);\n",
              "    animation:\n",
              "      spin 1s steps(1) infinite;\n",
              "  }\n",
              "\n",
              "  @keyframes spin {\n",
              "    0% {\n",
              "      border-color: transparent;\n",
              "      border-bottom-color: var(--fill-color);\n",
              "      border-left-color: var(--fill-color);\n",
              "    }\n",
              "    20% {\n",
              "      border-color: transparent;\n",
              "      border-left-color: var(--fill-color);\n",
              "      border-top-color: var(--fill-color);\n",
              "    }\n",
              "    30% {\n",
              "      border-color: transparent;\n",
              "      border-left-color: var(--fill-color);\n",
              "      border-top-color: var(--fill-color);\n",
              "      border-right-color: var(--fill-color);\n",
              "    }\n",
              "    40% {\n",
              "      border-color: transparent;\n",
              "      border-right-color: var(--fill-color);\n",
              "      border-top-color: var(--fill-color);\n",
              "    }\n",
              "    60% {\n",
              "      border-color: transparent;\n",
              "      border-right-color: var(--fill-color);\n",
              "    }\n",
              "    80% {\n",
              "      border-color: transparent;\n",
              "      border-right-color: var(--fill-color);\n",
              "      border-bottom-color: var(--fill-color);\n",
              "    }\n",
              "    90% {\n",
              "      border-color: transparent;\n",
              "      border-bottom-color: var(--fill-color);\n",
              "    }\n",
              "  }\n",
              "</style>\n",
              "\n",
              "      <script>\n",
              "        async function quickchart(key) {\n",
              "          const quickchartButtonEl =\n",
              "            document.querySelector('#' + key + ' button');\n",
              "          quickchartButtonEl.disabled = true;  // To prevent multiple clicks.\n",
              "          quickchartButtonEl.classList.add('colab-df-spinner');\n",
              "          try {\n",
              "            const charts = await google.colab.kernel.invokeFunction(\n",
              "                'suggestCharts', [key], {});\n",
              "          } catch (error) {\n",
              "            console.error('Error during call to suggestCharts:', error);\n",
              "          }\n",
              "          quickchartButtonEl.classList.remove('colab-df-spinner');\n",
              "          quickchartButtonEl.classList.add('colab-df-quickchart-complete');\n",
              "        }\n",
              "        (() => {\n",
              "          let quickchartButtonEl =\n",
              "            document.querySelector('#df-5eece32c-27c8-4742-8b41-dcf67e833c1d button');\n",
              "          quickchartButtonEl.style.display =\n",
              "            google.colab.kernel.accessAllowed ? 'block' : 'none';\n",
              "        })();\n",
              "      </script>\n",
              "    </div>\n",
              "\n",
              "    </div>\n",
              "  </div>\n"
            ],
            "application/vnd.google.colaboratory.intrinsic+json": {
              "type": "dataframe",
              "variable_name": "df_all_pull_req"
            }
          },
          "metadata": {},
          "execution_count": 3
        }
      ],
      "source": [
        "import pandas as pd\n",
        "\n",
        "df_all_pull_req = pd.read_parquet(\"hf://datasets/hao-li/AIDev/all_pull_request.parquet\")\n",
        "df_all_pull_req.head(3)"
      ]
    },
    {
      "cell_type": "code",
      "execution_count": null,
      "id": "df083166-2e88-471c-8777-34959f1f451c",
      "metadata": {
        "colab": {
          "base_uri": "https://localhost:8080/"
        },
        "id": "df083166-2e88-471c-8777-34959f1f451c",
        "outputId": "382a6650-bca3-4c9f-cd06-110515559d08"
      },
      "outputs": [
        {
          "output_type": "stream",
          "name": "stdout",
          "text": [
            "shape of all_pull_request:  (932791, 14)\n",
            "Columns of all_pull_request:  ['id', 'number', 'title', 'body', 'agent', 'user_id', 'user', 'state', 'created_at', 'closed_at', 'merged_at', 'repo_id', 'repo_url', 'html_url']\n"
          ]
        }
      ],
      "source": [
        "print('shape of all_pull_request: ',df_all_pull_req.shape)\n",
        "print(\"Columns of all_pull_request: \", list(df_all_pull_req.columns))"
      ]
    },
    {
      "cell_type": "code",
      "execution_count": null,
      "id": "8b6a7275-6f88-42fe-b551-a88f07594a94",
      "metadata": {
        "colab": {
          "base_uri": "https://localhost:8080/"
        },
        "id": "8b6a7275-6f88-42fe-b551-a88f07594a94",
        "outputId": "fd82b46c-83a3-4b6a-acbc-d3f3064491de"
      },
      "outputs": [
        {
          "output_type": "stream",
          "name": "stdout",
          "text": [
            "shape of all_repository:  (116211, 7)\n",
            "Columns of all_repository:  ['id', 'url', 'license', 'full_name', 'language', 'forks', 'stars']\n"
          ]
        }
      ],
      "source": [
        "df_all_repository = pd.read_parquet(\"hf://datasets/hao-li/AIDev/all_repository.parquet\")\n",
        "df_all_repository.head(3)\n",
        "\n",
        "print('shape of all_repository: ',df_all_repository.shape)\n",
        "print(\"Columns of all_repository: \", list(df_all_repository.columns))"
      ]
    },
    {
      "cell_type": "code",
      "execution_count": null,
      "id": "d87e418c-8519-40b5-a657-fefba5d1e3be",
      "metadata": {
        "colab": {
          "base_uri": "https://localhost:8080/"
        },
        "id": "d87e418c-8519-40b5-a657-fefba5d1e3be",
        "outputId": "390e1847-9d8a-438c-b2bf-70dcb4cb9884"
      },
      "outputs": [
        {
          "output_type": "stream",
          "name": "stdout",
          "text": [
            "shape of all_user:  (72189, 5)\n",
            "Columns of all_user:  ['id', 'login', 'followers', 'following', 'created_at']\n"
          ]
        }
      ],
      "source": [
        "df_all_user = pd.read_parquet(\"hf://datasets/hao-li/AIDev/all_user.parquet\")\n",
        "df_all_user.head(3)\n",
        "\n",
        "print('shape of all_user: ',df_all_user.shape)\n",
        "print(\"Columns of all_user: \", list(df_all_user.columns))"
      ]
    },
    {
      "cell_type": "code",
      "execution_count": null,
      "id": "d0b342e5-4b19-4677-b56c-8e0b56c4957a",
      "metadata": {
        "colab": {
          "base_uri": "https://localhost:8080/"
        },
        "id": "d0b342e5-4b19-4677-b56c-8e0b56c4957a",
        "outputId": "e82c22e7-6851-4d71-a723-1540f4e08256"
      },
      "outputs": [
        {
          "output_type": "stream",
          "name": "stdout",
          "text": [
            "shape of human_pr_task_type:  (6618, 6)\n",
            "Columns of human_pr_task_type:  ['agent', 'id', 'title', 'reason', 'type', 'confidence']\n"
          ]
        }
      ],
      "source": [
        "df_human_pr_task_type = pd.read_parquet(\"hf://datasets/hao-li/AIDev/human_pr_task_type.parquet\")\n",
        "df_human_pr_task_type.head(3)\n",
        "\n",
        "print('shape of human_pr_task_type: ',df_human_pr_task_type.shape)\n",
        "print(\"Columns of human_pr_task_type: \", list(df_human_pr_task_type.columns))"
      ]
    },
    {
      "cell_type": "code",
      "execution_count": null,
      "id": "b5d4825d-7975-450a-9f8b-9997c1a7c9af",
      "metadata": {
        "colab": {
          "base_uri": "https://localhost:8080/"
        },
        "id": "b5d4825d-7975-450a-9f8b-9997c1a7c9af",
        "outputId": "efa97473-589e-41c3-822d-dfacc4f1a12a"
      },
      "outputs": [
        {
          "output_type": "stream",
          "name": "stdout",
          "text": [
            "shape of human_pull_request:  (6618, 13)\n",
            "Columns of human_pull_request:  ['id', 'number', 'title', 'user', 'user_id', 'state', 'created_at', 'closed_at', 'merged_at', 'repo_url', 'html_url', 'body', 'agent']\n"
          ]
        }
      ],
      "source": [
        "df_human_pull_request = pd.read_parquet(\"hf://datasets/hao-li/AIDev/human_pull_request.parquet\")\n",
        "df_human_pull_request.head(3)\n",
        "\n",
        "print('shape of human_pull_request: ',df_human_pull_request.shape)\n",
        "print(\"Columns of human_pull_request: \", list(df_human_pull_request.columns))"
      ]
    },
    {
      "cell_type": "code",
      "execution_count": null,
      "id": "9acab430-2c41-46fa-937f-e79e6a3af96d",
      "metadata": {
        "colab": {
          "base_uri": "https://localhost:8080/"
        },
        "id": "9acab430-2c41-46fa-937f-e79e6a3af96d",
        "outputId": "ca622bab-8d7c-4598-c339-beed76b15e94"
      },
      "outputs": [
        {
          "output_type": "stream",
          "name": "stdout",
          "text": [
            "shape of issue:  (4614, 9)\n",
            "Columns of issue:  ['id', 'number', 'title', 'body', 'user', 'state', 'created_at', 'closed_at', 'html_url']\n"
          ]
        }
      ],
      "source": [
        "df_issue = pd.read_parquet(\"hf://datasets/hao-li/AIDev/issue.parquet\")\n",
        "df_issue.head(3)\n",
        "\n",
        "print('shape of issue: ',df_issue.shape)\n",
        "print(\"Columns of issue: \", list(df_issue.columns))"
      ]
    },
    {
      "cell_type": "code",
      "execution_count": null,
      "id": "a8fa4a93-dc51-4971-b4ff-f0460ab16ae4",
      "metadata": {
        "colab": {
          "base_uri": "https://localhost:8080/"
        },
        "id": "a8fa4a93-dc51-4971-b4ff-f0460ab16ae4",
        "outputId": "e5e06c4b-c5c6-4f67-efff-1b77d1f7dceb"
      },
      "outputs": [
        {
          "output_type": "stream",
          "name": "stdout",
          "text": [
            "shape of pr_comments:  (39122, 7)\n",
            "Columns of pr_comments:  ['id', 'pr_id', 'user', 'user_id', 'user_type', 'created_at', 'body']\n"
          ]
        }
      ],
      "source": [
        "df_pr_comments = pd.read_parquet(\"hf://datasets/hao-li/AIDev/pr_comments.parquet\")\n",
        "df_pr_comments.head(3)\n",
        "\n",
        "print('shape of pr_comments: ',df_pr_comments.shape)\n",
        "print(\"Columns of pr_comments: \", list(df_pr_comments.columns))"
      ]
    },
    {
      "cell_type": "code",
      "execution_count": null,
      "id": "5170d7eb-50f6-4f3f-a51f-ff6dc5d90c39",
      "metadata": {
        "colab": {
          "base_uri": "https://localhost:8080/"
        },
        "id": "5170d7eb-50f6-4f3f-a51f-ff6dc5d90c39",
        "outputId": "9dd0f1eb-46a2-4bf7-f5ca-d97890d5e271"
      },
      "outputs": [
        {
          "output_type": "stream",
          "name": "stdout",
          "text": [
            "shape of pr_commit_details:  (711923, 14)\n",
            "Columns of pr_commit_details:  ['sha', 'pr_id', 'author', 'committer', 'message', 'commit_stats_total', 'commit_stats_additions', 'commit_stats_deletions', 'filename', 'status', 'additions', 'deletions', 'changes', 'patch']\n",
            "DataFrame saved successfully!\n"
          ]
        }
      ],
      "source": [
        "df_pr_commit_details = pd.read_parquet(\"hf://datasets/hao-li/AIDev/pr_commit_details.parquet\")\n",
        "print('shape of pr_commit_details: ',df_pr_commit_details.shape)\n",
        "print(\"Columns of pr_commit_details: \", list(df_pr_commit_details.columns))\n",
        "\n",
        "df_pr_commit_details.to_parquet('/content/drive/MyDrive/Research/AIDev/pr_commit_details.parquet')\n",
        "print(\"DataFrame saved successfully!\")"
      ]
    },
    {
      "cell_type": "code",
      "execution_count": null,
      "id": "5dcfb695-7044-493a-9d78-4b99849fe2a5",
      "metadata": {
        "colab": {
          "base_uri": "https://localhost:8080/"
        },
        "id": "5dcfb695-7044-493a-9d78-4b99849fe2a5",
        "outputId": "0d17a23f-0c00-4847-c964-3fe53f708a0e"
      },
      "outputs": [
        {
          "output_type": "stream",
          "name": "stdout",
          "text": [
            "shape of pr_commits:  (88576, 5)\n",
            "Columns of pr_commits:  ['sha', 'pr_id', 'author', 'committer', 'message']\n"
          ]
        }
      ],
      "source": [
        "df_pr_commits = pd.read_parquet(\"hf://datasets/hao-li/AIDev/pr_commits.parquet\")\n",
        "df_pr_commits.head(3)\n",
        "\n",
        "print('shape of pr_commits: ',df_pr_commits.shape)\n",
        "print(\"Columns of pr_commits: \", list(df_pr_commits.columns))"
      ]
    },
    {
      "cell_type": "code",
      "execution_count": null,
      "id": "e3ccef13-1c10-4d10-a386-8f2b36dc64d0",
      "metadata": {
        "colab": {
          "base_uri": "https://localhost:8080/"
        },
        "id": "e3ccef13-1c10-4d10-a386-8f2b36dc64d0",
        "outputId": "3b8543f5-98a2-4c48-8eda-333aa97d60d0"
      },
      "outputs": [
        {
          "output_type": "stream",
          "name": "stdout",
          "text": [
            "shape of pr_review_comments:  (19450, 15)\n",
            "Columns of pr_review_comments:  ['id', 'pull_request_review_id', 'user', 'user_type', 'diff_hunk', 'path', 'position', 'original_position', 'commit_id', 'original_commit_id', 'body', 'pull_request_url', 'created_at', 'updated_at', 'in_reply_to_id']\n"
          ]
        }
      ],
      "source": [
        "df_pr_review_comments = pd.read_parquet(\"hf://datasets/hao-li/AIDev/pr_review_comments.parquet\")\n",
        "df_pr_review_comments.head(3)\n",
        "\n",
        "print('shape of pr_review_comments: ',df_pr_review_comments.shape)\n",
        "print(\"Columns of pr_review_comments: \", list(df_pr_review_comments.columns))"
      ]
    },
    {
      "cell_type": "code",
      "execution_count": null,
      "id": "03e9d1f6-0396-4906-9ef5-a45f106a23e4",
      "metadata": {
        "colab": {
          "base_uri": "https://localhost:8080/"
        },
        "id": "03e9d1f6-0396-4906-9ef5-a45f106a23e4",
        "outputId": "10bc1e7a-b73e-4b51-b48d-a33d51f95c74"
      },
      "outputs": [
        {
          "output_type": "stream",
          "name": "stdout",
          "text": [
            "shape of pr_reviews:  (28875, 7)\n",
            "Columns of pr_reviews:  ['id', 'pr_id', 'user', 'user_type', 'state', 'submitted_at', 'body']\n"
          ]
        }
      ],
      "source": [
        "df_pr_reviews = pd.read_parquet(\"hf://datasets/hao-li/AIDev/pr_reviews.parquet\")\n",
        "df_pr_reviews.head(3)\n",
        "\n",
        "print('shape of pr_reviews: ',df_pr_reviews.shape)\n",
        "print(\"Columns of pr_reviews: \", list(df_pr_reviews.columns))"
      ]
    },
    {
      "cell_type": "code",
      "execution_count": null,
      "id": "b4fa6bfc-3b82-4605-b0d9-b530eb1d4995",
      "metadata": {
        "colab": {
          "base_uri": "https://localhost:8080/"
        },
        "id": "b4fa6bfc-3b82-4605-b0d9-b530eb1d4995",
        "outputId": "0bf0d20c-4b87-42d1-9428-59c26dbdee44"
      },
      "outputs": [
        {
          "output_type": "stream",
          "name": "stdout",
          "text": [
            "shape of pr_task_type:  (33596, 6)\n",
            "Columns of pr_task_type:  ['agent', 'id', 'title', 'reason', 'type', 'confidence']\n"
          ]
        }
      ],
      "source": [
        "df_pr_task_type = pd.read_parquet(\"hf://datasets/hao-li/AIDev/pr_task_type.parquet\")\n",
        "df_pr_task_type.head(3)\n",
        "\n",
        "print('shape of pr_task_type: ',df_pr_task_type.shape)\n",
        "print(\"Columns of pr_task_type: \", list(df_pr_task_type.columns))"
      ]
    },
    {
      "cell_type": "code",
      "execution_count": null,
      "id": "1fdd9890-095e-448e-bcec-4c7ffeb064c8",
      "metadata": {
        "colab": {
          "base_uri": "https://localhost:8080/"
        },
        "id": "1fdd9890-095e-448e-bcec-4c7ffeb064c8",
        "outputId": "1d0dee9b-bd08-498c-f937-3650d10539df"
      },
      "outputs": [
        {
          "output_type": "stream",
          "name": "stdout",
          "text": [
            "shape of pr_timeline:  (325500, 8)\n",
            "Columns of pr_timeline:  ['pr_id', 'event', 'commit_id', 'created_at', 'actor', 'assignee', 'label', 'message']\n"
          ]
        }
      ],
      "source": [
        "df_pr_timeline = pd.read_parquet(\"hf://datasets/hao-li/AIDev/pr_timeline.parquet\")\n",
        "df_pr_timeline.head(3)\n",
        "\n",
        "print('shape of pr_timeline: ',df_pr_timeline.shape)\n",
        "print(\"Columns of pr_timeline: \", list(df_pr_timeline.columns))"
      ]
    },
    {
      "cell_type": "code",
      "execution_count": null,
      "id": "3dbb3531-6e00-419a-8bf4-ce813ffeff53",
      "metadata": {
        "colab": {
          "base_uri": "https://localhost:8080/"
        },
        "id": "3dbb3531-6e00-419a-8bf4-ce813ffeff53",
        "outputId": "1d3635f6-596b-4905-fa8e-de0ea4a09ab4"
      },
      "outputs": [
        {
          "output_type": "stream",
          "name": "stdout",
          "text": [
            "shape of pull_request:  (33596, 14)\n",
            "Columns of pull_request:  ['id', 'number', 'title', 'body', 'agent', 'user_id', 'user', 'state', 'created_at', 'closed_at', 'merged_at', 'repo_id', 'repo_url', 'html_url']\n"
          ]
        }
      ],
      "source": [
        "df_pull_request = pd.read_parquet(\"hf://datasets/hao-li/AIDev/pull_request.parquet\")\n",
        "df_pull_request.head(3)\n",
        "\n",
        "print('shape of pull_request: ',df_pull_request.shape)\n",
        "print(\"Columns of pull_request: \", list(df_pull_request.columns))"
      ]
    },
    {
      "cell_type": "code",
      "execution_count": null,
      "id": "616c4730-2a2d-40bc-b170-2b1229c4bc3c",
      "metadata": {
        "colab": {
          "base_uri": "https://localhost:8080/"
        },
        "id": "616c4730-2a2d-40bc-b170-2b1229c4bc3c",
        "outputId": "4e0821af-2f16-40b3-8269-9bfd62f9c600"
      },
      "outputs": [
        {
          "output_type": "stream",
          "name": "stdout",
          "text": [
            "shape of related_issue:  (4923, 3)\n",
            "Columns of related_issue:  ['pr_id', 'issue_id', 'source']\n"
          ]
        }
      ],
      "source": [
        "df_related_issue = pd.read_parquet(\"hf://datasets/hao-li/AIDev/related_issue.parquet\")\n",
        "df_related_issue.head(3)\n",
        "\n",
        "print('shape of related_issue: ',df_related_issue.shape)\n",
        "print(\"Columns of related_issue: \", list(df_related_issue.columns))"
      ]
    },
    {
      "cell_type": "code",
      "execution_count": null,
      "id": "36ef7398-9bea-4465-8fa8-1c6e5869085e",
      "metadata": {
        "colab": {
          "base_uri": "https://localhost:8080/"
        },
        "id": "36ef7398-9bea-4465-8fa8-1c6e5869085e",
        "outputId": "a74b408f-058f-497a-e033-53f742f710e8"
      },
      "outputs": [
        {
          "output_type": "stream",
          "name": "stdout",
          "text": [
            "shape of repository:  (2807, 7)\n",
            "Columns of repository:  ['id', 'url', 'license', 'full_name', 'language', 'forks', 'stars']\n"
          ]
        }
      ],
      "source": [
        "df_repository = pd.read_parquet(\"hf://datasets/hao-li/AIDev/repository.parquet\")\n",
        "df_repository.head(3)\n",
        "\n",
        "print('shape of repository: ',df_repository.shape)\n",
        "print(\"Columns of repository: \", list(df_repository.columns))"
      ]
    },
    {
      "cell_type": "code",
      "execution_count": null,
      "id": "86a4785d-6f56-40f0-8765-fe850a4509dd",
      "metadata": {
        "colab": {
          "base_uri": "https://localhost:8080/"
        },
        "id": "86a4785d-6f56-40f0-8765-fe850a4509dd",
        "outputId": "bce9e2f2-1952-4847-81af-f72f5d3afa34"
      },
      "outputs": [
        {
          "output_type": "stream",
          "name": "stdout",
          "text": [
            ".. ... Installed .. .. \n"
          ]
        }
      ],
      "source": [
        "import pandas as pd\n",
        "import numpy as np\n",
        "import matplotlib.pyplot as plt\n",
        "import seaborn as sns\n",
        "from scipy import stats\n",
        "import warnings\n",
        "warnings.filterwarnings('ignore')\n",
        "\n",
        "plt.rcParams['figure.figsize'] = (10, 6)\n",
        "sns.set_style(\"whitegrid\")\n",
        "sns.set_palette(\"colorblind\")\n",
        "\n",
        "print('.. ... Installed .. .. ')"
      ]
    },
    {
      "cell_type": "markdown",
      "id": "21c07b95-2d12-40d8-9945-8f1d0a33ed0d",
      "metadata": {
        "id": "21c07b95-2d12-40d8-9945-8f1d0a33ed0d"
      },
      "source": [
        "# Data Preprocessing [Creating a Merged Dataset]\n"
      ]
    },
    {
      "cell_type": "code",
      "execution_count": null,
      "id": "82667626-8cac-40c7-b35d-4c232d581771",
      "metadata": {
        "colab": {
          "base_uri": "https://localhost:8080/",
          "height": 147
        },
        "id": "82667626-8cac-40c7-b35d-4c232d581771",
        "outputId": "c3771113-71d1-45c7-d2b0-5364404c7949"
      },
      "outputs": [
        {
          "output_type": "stream",
          "name": "stdout",
          "text": [
            "Aggregating file-level changes to PR-level...\n",
            "(33580, 5)\n"
          ]
        },
        {
          "output_type": "execute_result",
          "data": {
            "text/plain": [
              "        pr_id  total_additions  total_deletions  files_touched  total_changes\n",
              "0  2756921963            848.0            344.0             15         1192.0\n",
              "1  2757103560            517.0            262.0             16          779.0"
            ],
            "text/html": [
              "\n",
              "  <div id=\"df-d5eaf5a9-0adf-4697-88c8-5dba0f8638b6\" class=\"colab-df-container\">\n",
              "    <div>\n",
              "<style scoped>\n",
              "    .dataframe tbody tr th:only-of-type {\n",
              "        vertical-align: middle;\n",
              "    }\n",
              "\n",
              "    .dataframe tbody tr th {\n",
              "        vertical-align: top;\n",
              "    }\n",
              "\n",
              "    .dataframe thead th {\n",
              "        text-align: right;\n",
              "    }\n",
              "</style>\n",
              "<table border=\"1\" class=\"dataframe\">\n",
              "  <thead>\n",
              "    <tr style=\"text-align: right;\">\n",
              "      <th></th>\n",
              "      <th>pr_id</th>\n",
              "      <th>total_additions</th>\n",
              "      <th>total_deletions</th>\n",
              "      <th>files_touched</th>\n",
              "      <th>total_changes</th>\n",
              "    </tr>\n",
              "  </thead>\n",
              "  <tbody>\n",
              "    <tr>\n",
              "      <th>0</th>\n",
              "      <td>2756921963</td>\n",
              "      <td>848.0</td>\n",
              "      <td>344.0</td>\n",
              "      <td>15</td>\n",
              "      <td>1192.0</td>\n",
              "    </tr>\n",
              "    <tr>\n",
              "      <th>1</th>\n",
              "      <td>2757103560</td>\n",
              "      <td>517.0</td>\n",
              "      <td>262.0</td>\n",
              "      <td>16</td>\n",
              "      <td>779.0</td>\n",
              "    </tr>\n",
              "  </tbody>\n",
              "</table>\n",
              "</div>\n",
              "    <div class=\"colab-df-buttons\">\n",
              "\n",
              "  <div class=\"colab-df-container\">\n",
              "    <button class=\"colab-df-convert\" onclick=\"convertToInteractive('df-d5eaf5a9-0adf-4697-88c8-5dba0f8638b6')\"\n",
              "            title=\"Convert this dataframe to an interactive table.\"\n",
              "            style=\"display:none;\">\n",
              "\n",
              "  <svg xmlns=\"http://www.w3.org/2000/svg\" height=\"24px\" viewBox=\"0 -960 960 960\">\n",
              "    <path d=\"M120-120v-720h720v720H120Zm60-500h600v-160H180v160Zm220 220h160v-160H400v160Zm0 220h160v-160H400v160ZM180-400h160v-160H180v160Zm440 0h160v-160H620v160ZM180-180h160v-160H180v160Zm440 0h160v-160H620v160Z\"/>\n",
              "  </svg>\n",
              "    </button>\n",
              "\n",
              "  <style>\n",
              "    .colab-df-container {\n",
              "      display:flex;\n",
              "      gap: 12px;\n",
              "    }\n",
              "\n",
              "    .colab-df-convert {\n",
              "      background-color: #E8F0FE;\n",
              "      border: none;\n",
              "      border-radius: 50%;\n",
              "      cursor: pointer;\n",
              "      display: none;\n",
              "      fill: #1967D2;\n",
              "      height: 32px;\n",
              "      padding: 0 0 0 0;\n",
              "      width: 32px;\n",
              "    }\n",
              "\n",
              "    .colab-df-convert:hover {\n",
              "      background-color: #E2EBFA;\n",
              "      box-shadow: 0px 1px 2px rgba(60, 64, 67, 0.3), 0px 1px 3px 1px rgba(60, 64, 67, 0.15);\n",
              "      fill: #174EA6;\n",
              "    }\n",
              "\n",
              "    .colab-df-buttons div {\n",
              "      margin-bottom: 4px;\n",
              "    }\n",
              "\n",
              "    [theme=dark] .colab-df-convert {\n",
              "      background-color: #3B4455;\n",
              "      fill: #D2E3FC;\n",
              "    }\n",
              "\n",
              "    [theme=dark] .colab-df-convert:hover {\n",
              "      background-color: #434B5C;\n",
              "      box-shadow: 0px 1px 3px 1px rgba(0, 0, 0, 0.15);\n",
              "      filter: drop-shadow(0px 1px 2px rgba(0, 0, 0, 0.3));\n",
              "      fill: #FFFFFF;\n",
              "    }\n",
              "  </style>\n",
              "\n",
              "    <script>\n",
              "      const buttonEl =\n",
              "        document.querySelector('#df-d5eaf5a9-0adf-4697-88c8-5dba0f8638b6 button.colab-df-convert');\n",
              "      buttonEl.style.display =\n",
              "        google.colab.kernel.accessAllowed ? 'block' : 'none';\n",
              "\n",
              "      async function convertToInteractive(key) {\n",
              "        const element = document.querySelector('#df-d5eaf5a9-0adf-4697-88c8-5dba0f8638b6');\n",
              "        const dataTable =\n",
              "          await google.colab.kernel.invokeFunction('convertToInteractive',\n",
              "                                                    [key], {});\n",
              "        if (!dataTable) return;\n",
              "\n",
              "        const docLinkHtml = 'Like what you see? Visit the ' +\n",
              "          '<a target=\"_blank\" href=https://colab.research.google.com/notebooks/data_table.ipynb>data table notebook</a>'\n",
              "          + ' to learn more about interactive tables.';\n",
              "        element.innerHTML = '';\n",
              "        dataTable['output_type'] = 'display_data';\n",
              "        await google.colab.output.renderOutput(dataTable, element);\n",
              "        const docLink = document.createElement('div');\n",
              "        docLink.innerHTML = docLinkHtml;\n",
              "        element.appendChild(docLink);\n",
              "      }\n",
              "    </script>\n",
              "  </div>\n",
              "\n",
              "\n",
              "    <div id=\"df-e9a323f5-bd8f-42b3-ab32-798f14dc9242\">\n",
              "      <button class=\"colab-df-quickchart\" onclick=\"quickchart('df-e9a323f5-bd8f-42b3-ab32-798f14dc9242')\"\n",
              "                title=\"Suggest charts\"\n",
              "                style=\"display:none;\">\n",
              "\n",
              "<svg xmlns=\"http://www.w3.org/2000/svg\" height=\"24px\"viewBox=\"0 0 24 24\"\n",
              "     width=\"24px\">\n",
              "    <g>\n",
              "        <path d=\"M19 3H5c-1.1 0-2 .9-2 2v14c0 1.1.9 2 2 2h14c1.1 0 2-.9 2-2V5c0-1.1-.9-2-2-2zM9 17H7v-7h2v7zm4 0h-2V7h2v10zm4 0h-2v-4h2v4z\"/>\n",
              "    </g>\n",
              "</svg>\n",
              "      </button>\n",
              "\n",
              "<style>\n",
              "  .colab-df-quickchart {\n",
              "      --bg-color: #E8F0FE;\n",
              "      --fill-color: #1967D2;\n",
              "      --hover-bg-color: #E2EBFA;\n",
              "      --hover-fill-color: #174EA6;\n",
              "      --disabled-fill-color: #AAA;\n",
              "      --disabled-bg-color: #DDD;\n",
              "  }\n",
              "\n",
              "  [theme=dark] .colab-df-quickchart {\n",
              "      --bg-color: #3B4455;\n",
              "      --fill-color: #D2E3FC;\n",
              "      --hover-bg-color: #434B5C;\n",
              "      --hover-fill-color: #FFFFFF;\n",
              "      --disabled-bg-color: #3B4455;\n",
              "      --disabled-fill-color: #666;\n",
              "  }\n",
              "\n",
              "  .colab-df-quickchart {\n",
              "    background-color: var(--bg-color);\n",
              "    border: none;\n",
              "    border-radius: 50%;\n",
              "    cursor: pointer;\n",
              "    display: none;\n",
              "    fill: var(--fill-color);\n",
              "    height: 32px;\n",
              "    padding: 0;\n",
              "    width: 32px;\n",
              "  }\n",
              "\n",
              "  .colab-df-quickchart:hover {\n",
              "    background-color: var(--hover-bg-color);\n",
              "    box-shadow: 0 1px 2px rgba(60, 64, 67, 0.3), 0 1px 3px 1px rgba(60, 64, 67, 0.15);\n",
              "    fill: var(--button-hover-fill-color);\n",
              "  }\n",
              "\n",
              "  .colab-df-quickchart-complete:disabled,\n",
              "  .colab-df-quickchart-complete:disabled:hover {\n",
              "    background-color: var(--disabled-bg-color);\n",
              "    fill: var(--disabled-fill-color);\n",
              "    box-shadow: none;\n",
              "  }\n",
              "\n",
              "  .colab-df-spinner {\n",
              "    border: 2px solid var(--fill-color);\n",
              "    border-color: transparent;\n",
              "    border-bottom-color: var(--fill-color);\n",
              "    animation:\n",
              "      spin 1s steps(1) infinite;\n",
              "  }\n",
              "\n",
              "  @keyframes spin {\n",
              "    0% {\n",
              "      border-color: transparent;\n",
              "      border-bottom-color: var(--fill-color);\n",
              "      border-left-color: var(--fill-color);\n",
              "    }\n",
              "    20% {\n",
              "      border-color: transparent;\n",
              "      border-left-color: var(--fill-color);\n",
              "      border-top-color: var(--fill-color);\n",
              "    }\n",
              "    30% {\n",
              "      border-color: transparent;\n",
              "      border-left-color: var(--fill-color);\n",
              "      border-top-color: var(--fill-color);\n",
              "      border-right-color: var(--fill-color);\n",
              "    }\n",
              "    40% {\n",
              "      border-color: transparent;\n",
              "      border-right-color: var(--fill-color);\n",
              "      border-top-color: var(--fill-color);\n",
              "    }\n",
              "    60% {\n",
              "      border-color: transparent;\n",
              "      border-right-color: var(--fill-color);\n",
              "    }\n",
              "    80% {\n",
              "      border-color: transparent;\n",
              "      border-right-color: var(--fill-color);\n",
              "      border-bottom-color: var(--fill-color);\n",
              "    }\n",
              "    90% {\n",
              "      border-color: transparent;\n",
              "      border-bottom-color: var(--fill-color);\n",
              "    }\n",
              "  }\n",
              "</style>\n",
              "\n",
              "      <script>\n",
              "        async function quickchart(key) {\n",
              "          const quickchartButtonEl =\n",
              "            document.querySelector('#' + key + ' button');\n",
              "          quickchartButtonEl.disabled = true;  // To prevent multiple clicks.\n",
              "          quickchartButtonEl.classList.add('colab-df-spinner');\n",
              "          try {\n",
              "            const charts = await google.colab.kernel.invokeFunction(\n",
              "                'suggestCharts', [key], {});\n",
              "          } catch (error) {\n",
              "            console.error('Error during call to suggestCharts:', error);\n",
              "          }\n",
              "          quickchartButtonEl.classList.remove('colab-df-spinner');\n",
              "          quickchartButtonEl.classList.add('colab-df-quickchart-complete');\n",
              "        }\n",
              "        (() => {\n",
              "          let quickchartButtonEl =\n",
              "            document.querySelector('#df-e9a323f5-bd8f-42b3-ab32-798f14dc9242 button');\n",
              "          quickchartButtonEl.style.display =\n",
              "            google.colab.kernel.accessAllowed ? 'block' : 'none';\n",
              "        })();\n",
              "      </script>\n",
              "    </div>\n",
              "\n",
              "    </div>\n",
              "  </div>\n"
            ],
            "application/vnd.google.colaboratory.intrinsic+json": {
              "type": "dataframe",
              "variable_name": "pr_level_changes",
              "summary": "{\n  \"name\": \"pr_level_changes\",\n  \"rows\": 33580,\n  \"fields\": [\n    {\n      \"column\": \"pr_id\",\n      \"properties\": {\n        \"dtype\": \"number\",\n        \"std\": 94511861,\n        \"min\": 2756921963,\n        \"max\": 3278236128,\n        \"num_unique_values\": 33580,\n        \"samples\": [\n          3237800841,\n          3252194549,\n          3136808302\n        ],\n        \"semantic_type\": \"\",\n        \"description\": \"\"\n      }\n    },\n    {\n      \"column\": \"total_additions\",\n      \"properties\": {\n        \"dtype\": \"number\",\n        \"std\": 6351.430489683884,\n        \"min\": 0.0,\n        \"max\": 631203.0,\n        \"num_unique_values\": 3235,\n        \"samples\": [\n          4823.0,\n          18557.0,\n          3878.0\n        ],\n        \"semantic_type\": \"\",\n        \"description\": \"\"\n      }\n    },\n    {\n      \"column\": \"total_deletions\",\n      \"properties\": {\n        \"dtype\": \"number\",\n        \"std\": 4835.8207588523255,\n        \"min\": 0.0,\n        \"max\": 640627.0,\n        \"num_unique_values\": 2147,\n        \"samples\": [\n          15550.0,\n          3440.0,\n          6974.0\n        ],\n        \"semantic_type\": \"\",\n        \"description\": \"\"\n      }\n    },\n    {\n      \"column\": \"files_touched\",\n      \"properties\": {\n        \"dtype\": \"number\",\n        \"std\": 44,\n        \"min\": 0,\n        \"max\": 1641,\n        \"num_unique_values\": 386,\n        \"samples\": [\n          87,\n          210,\n          170\n        ],\n        \"semantic_type\": \"\",\n        \"description\": \"\"\n      }\n    },\n    {\n      \"column\": \"total_changes\",\n      \"properties\": {\n        \"dtype\": \"number\",\n        \"std\": 9262.1591896964,\n        \"min\": 0.0,\n        \"max\": 653161.0,\n        \"num_unique_values\": 3752,\n        \"samples\": [\n          2770.0,\n          899.0,\n          5189.0\n        ],\n        \"semantic_type\": \"\",\n        \"description\": \"\"\n      }\n    }\n  ]\n}"
            }
          },
          "metadata": {},
          "execution_count": 29
        }
      ],
      "source": [
        "print(\"Aggregating file-level changes to PR-level...\")\n",
        "pr_level_changes = df_pr_commit_details.groupby('pr_id').agg(\n",
        "    total_additions=('additions', 'sum'),\n",
        "    total_deletions=('deletions', 'sum'),\n",
        "    files_touched=('filename', 'nunique'),\n",
        "    total_changes=('changes', 'sum')\n",
        ").reset_index()\n",
        "print(pr_level_changes.shape)\n",
        "pr_level_changes.head(2)"
      ]
    },
    {
      "cell_type": "code",
      "execution_count": null,
      "id": "3f4fdbd0-1c84-4c27-a08f-1a66d08b9dcd",
      "metadata": {
        "colab": {
          "base_uri": "https://localhost:8080/",
          "height": 129
        },
        "id": "3f4fdbd0-1c84-4c27-a08f-1a66d08b9dcd",
        "outputId": "5581dd71-58f6-4b0b-fc1a-f05be0c906a1"
      },
      "outputs": [
        {
          "output_type": "stream",
          "name": "stdout",
          "text": [
            "Merging with pull_request data...\n"
          ]
        },
        {
          "output_type": "execute_result",
          "data": {
            "text/plain": [
              "        pr_id  total_additions  total_deletions  files_touched  total_changes  \\\n",
              "0  2756921963            848.0            344.0             15         1192.0   \n",
              "1  2757103560            517.0            262.0             16          779.0   \n",
              "\n",
              "           id  agent                                          title  \\\n",
              "0  2756921963  Devin                      Add LLM Integration Tests   \n",
              "1  2757103560  Devin  feat: add encryptStringAsync + refactor calls   \n",
              "\n",
              "                                                body  \n",
              "0  # 🔍 Review Summary \\n **Purpose**:\\n- Enhance ...  \n",
              "1  # Changes\\n- Added `encryptStringAsync` functi...  "
            ],
            "text/html": [
              "\n",
              "  <div id=\"df-fc16c991-a3ad-42c6-80a8-d796a0011ee6\" class=\"colab-df-container\">\n",
              "    <div>\n",
              "<style scoped>\n",
              "    .dataframe tbody tr th:only-of-type {\n",
              "        vertical-align: middle;\n",
              "    }\n",
              "\n",
              "    .dataframe tbody tr th {\n",
              "        vertical-align: top;\n",
              "    }\n",
              "\n",
              "    .dataframe thead th {\n",
              "        text-align: right;\n",
              "    }\n",
              "</style>\n",
              "<table border=\"1\" class=\"dataframe\">\n",
              "  <thead>\n",
              "    <tr style=\"text-align: right;\">\n",
              "      <th></th>\n",
              "      <th>pr_id</th>\n",
              "      <th>total_additions</th>\n",
              "      <th>total_deletions</th>\n",
              "      <th>files_touched</th>\n",
              "      <th>total_changes</th>\n",
              "      <th>id</th>\n",
              "      <th>agent</th>\n",
              "      <th>title</th>\n",
              "      <th>body</th>\n",
              "    </tr>\n",
              "  </thead>\n",
              "  <tbody>\n",
              "    <tr>\n",
              "      <th>0</th>\n",
              "      <td>2756921963</td>\n",
              "      <td>848.0</td>\n",
              "      <td>344.0</td>\n",
              "      <td>15</td>\n",
              "      <td>1192.0</td>\n",
              "      <td>2756921963</td>\n",
              "      <td>Devin</td>\n",
              "      <td>Add LLM Integration Tests</td>\n",
              "      <td># 🔍 Review Summary \\n **Purpose**:\\n- Enhance ...</td>\n",
              "    </tr>\n",
              "    <tr>\n",
              "      <th>1</th>\n",
              "      <td>2757103560</td>\n",
              "      <td>517.0</td>\n",
              "      <td>262.0</td>\n",
              "      <td>16</td>\n",
              "      <td>779.0</td>\n",
              "      <td>2757103560</td>\n",
              "      <td>Devin</td>\n",
              "      <td>feat: add encryptStringAsync + refactor calls</td>\n",
              "      <td># Changes\\n- Added `encryptStringAsync` functi...</td>\n",
              "    </tr>\n",
              "  </tbody>\n",
              "</table>\n",
              "</div>\n",
              "    <div class=\"colab-df-buttons\">\n",
              "\n",
              "  <div class=\"colab-df-container\">\n",
              "    <button class=\"colab-df-convert\" onclick=\"convertToInteractive('df-fc16c991-a3ad-42c6-80a8-d796a0011ee6')\"\n",
              "            title=\"Convert this dataframe to an interactive table.\"\n",
              "            style=\"display:none;\">\n",
              "\n",
              "  <svg xmlns=\"http://www.w3.org/2000/svg\" height=\"24px\" viewBox=\"0 -960 960 960\">\n",
              "    <path d=\"M120-120v-720h720v720H120Zm60-500h600v-160H180v160Zm220 220h160v-160H400v160Zm0 220h160v-160H400v160ZM180-400h160v-160H180v160Zm440 0h160v-160H620v160ZM180-180h160v-160H180v160Zm440 0h160v-160H620v160Z\"/>\n",
              "  </svg>\n",
              "    </button>\n",
              "\n",
              "  <style>\n",
              "    .colab-df-container {\n",
              "      display:flex;\n",
              "      gap: 12px;\n",
              "    }\n",
              "\n",
              "    .colab-df-convert {\n",
              "      background-color: #E8F0FE;\n",
              "      border: none;\n",
              "      border-radius: 50%;\n",
              "      cursor: pointer;\n",
              "      display: none;\n",
              "      fill: #1967D2;\n",
              "      height: 32px;\n",
              "      padding: 0 0 0 0;\n",
              "      width: 32px;\n",
              "    }\n",
              "\n",
              "    .colab-df-convert:hover {\n",
              "      background-color: #E2EBFA;\n",
              "      box-shadow: 0px 1px 2px rgba(60, 64, 67, 0.3), 0px 1px 3px 1px rgba(60, 64, 67, 0.15);\n",
              "      fill: #174EA6;\n",
              "    }\n",
              "\n",
              "    .colab-df-buttons div {\n",
              "      margin-bottom: 4px;\n",
              "    }\n",
              "\n",
              "    [theme=dark] .colab-df-convert {\n",
              "      background-color: #3B4455;\n",
              "      fill: #D2E3FC;\n",
              "    }\n",
              "\n",
              "    [theme=dark] .colab-df-convert:hover {\n",
              "      background-color: #434B5C;\n",
              "      box-shadow: 0px 1px 3px 1px rgba(0, 0, 0, 0.15);\n",
              "      filter: drop-shadow(0px 1px 2px rgba(0, 0, 0, 0.3));\n",
              "      fill: #FFFFFF;\n",
              "    }\n",
              "  </style>\n",
              "\n",
              "    <script>\n",
              "      const buttonEl =\n",
              "        document.querySelector('#df-fc16c991-a3ad-42c6-80a8-d796a0011ee6 button.colab-df-convert');\n",
              "      buttonEl.style.display =\n",
              "        google.colab.kernel.accessAllowed ? 'block' : 'none';\n",
              "\n",
              "      async function convertToInteractive(key) {\n",
              "        const element = document.querySelector('#df-fc16c991-a3ad-42c6-80a8-d796a0011ee6');\n",
              "        const dataTable =\n",
              "          await google.colab.kernel.invokeFunction('convertToInteractive',\n",
              "                                                    [key], {});\n",
              "        if (!dataTable) return;\n",
              "\n",
              "        const docLinkHtml = 'Like what you see? Visit the ' +\n",
              "          '<a target=\"_blank\" href=https://colab.research.google.com/notebooks/data_table.ipynb>data table notebook</a>'\n",
              "          + ' to learn more about interactive tables.';\n",
              "        element.innerHTML = '';\n",
              "        dataTable['output_type'] = 'display_data';\n",
              "        await google.colab.output.renderOutput(dataTable, element);\n",
              "        const docLink = document.createElement('div');\n",
              "        docLink.innerHTML = docLinkHtml;\n",
              "        element.appendChild(docLink);\n",
              "      }\n",
              "    </script>\n",
              "  </div>\n",
              "\n",
              "\n",
              "    <div id=\"df-0eee7325-ea07-4dfe-8179-5237c4488f4a\">\n",
              "      <button class=\"colab-df-quickchart\" onclick=\"quickchart('df-0eee7325-ea07-4dfe-8179-5237c4488f4a')\"\n",
              "                title=\"Suggest charts\"\n",
              "                style=\"display:none;\">\n",
              "\n",
              "<svg xmlns=\"http://www.w3.org/2000/svg\" height=\"24px\"viewBox=\"0 0 24 24\"\n",
              "     width=\"24px\">\n",
              "    <g>\n",
              "        <path d=\"M19 3H5c-1.1 0-2 .9-2 2v14c0 1.1.9 2 2 2h14c1.1 0 2-.9 2-2V5c0-1.1-.9-2-2-2zM9 17H7v-7h2v7zm4 0h-2V7h2v10zm4 0h-2v-4h2v4z\"/>\n",
              "    </g>\n",
              "</svg>\n",
              "      </button>\n",
              "\n",
              "<style>\n",
              "  .colab-df-quickchart {\n",
              "      --bg-color: #E8F0FE;\n",
              "      --fill-color: #1967D2;\n",
              "      --hover-bg-color: #E2EBFA;\n",
              "      --hover-fill-color: #174EA6;\n",
              "      --disabled-fill-color: #AAA;\n",
              "      --disabled-bg-color: #DDD;\n",
              "  }\n",
              "\n",
              "  [theme=dark] .colab-df-quickchart {\n",
              "      --bg-color: #3B4455;\n",
              "      --fill-color: #D2E3FC;\n",
              "      --hover-bg-color: #434B5C;\n",
              "      --hover-fill-color: #FFFFFF;\n",
              "      --disabled-bg-color: #3B4455;\n",
              "      --disabled-fill-color: #666;\n",
              "  }\n",
              "\n",
              "  .colab-df-quickchart {\n",
              "    background-color: var(--bg-color);\n",
              "    border: none;\n",
              "    border-radius: 50%;\n",
              "    cursor: pointer;\n",
              "    display: none;\n",
              "    fill: var(--fill-color);\n",
              "    height: 32px;\n",
              "    padding: 0;\n",
              "    width: 32px;\n",
              "  }\n",
              "\n",
              "  .colab-df-quickchart:hover {\n",
              "    background-color: var(--hover-bg-color);\n",
              "    box-shadow: 0 1px 2px rgba(60, 64, 67, 0.3), 0 1px 3px 1px rgba(60, 64, 67, 0.15);\n",
              "    fill: var(--button-hover-fill-color);\n",
              "  }\n",
              "\n",
              "  .colab-df-quickchart-complete:disabled,\n",
              "  .colab-df-quickchart-complete:disabled:hover {\n",
              "    background-color: var(--disabled-bg-color);\n",
              "    fill: var(--disabled-fill-color);\n",
              "    box-shadow: none;\n",
              "  }\n",
              "\n",
              "  .colab-df-spinner {\n",
              "    border: 2px solid var(--fill-color);\n",
              "    border-color: transparent;\n",
              "    border-bottom-color: var(--fill-color);\n",
              "    animation:\n",
              "      spin 1s steps(1) infinite;\n",
              "  }\n",
              "\n",
              "  @keyframes spin {\n",
              "    0% {\n",
              "      border-color: transparent;\n",
              "      border-bottom-color: var(--fill-color);\n",
              "      border-left-color: var(--fill-color);\n",
              "    }\n",
              "    20% {\n",
              "      border-color: transparent;\n",
              "      border-left-color: var(--fill-color);\n",
              "      border-top-color: var(--fill-color);\n",
              "    }\n",
              "    30% {\n",
              "      border-color: transparent;\n",
              "      border-left-color: var(--fill-color);\n",
              "      border-top-color: var(--fill-color);\n",
              "      border-right-color: var(--fill-color);\n",
              "    }\n",
              "    40% {\n",
              "      border-color: transparent;\n",
              "      border-right-color: var(--fill-color);\n",
              "      border-top-color: var(--fill-color);\n",
              "    }\n",
              "    60% {\n",
              "      border-color: transparent;\n",
              "      border-right-color: var(--fill-color);\n",
              "    }\n",
              "    80% {\n",
              "      border-color: transparent;\n",
              "      border-right-color: var(--fill-color);\n",
              "      border-bottom-color: var(--fill-color);\n",
              "    }\n",
              "    90% {\n",
              "      border-color: transparent;\n",
              "      border-bottom-color: var(--fill-color);\n",
              "    }\n",
              "  }\n",
              "</style>\n",
              "\n",
              "      <script>\n",
              "        async function quickchart(key) {\n",
              "          const quickchartButtonEl =\n",
              "            document.querySelector('#' + key + ' button');\n",
              "          quickchartButtonEl.disabled = true;  // To prevent multiple clicks.\n",
              "          quickchartButtonEl.classList.add('colab-df-spinner');\n",
              "          try {\n",
              "            const charts = await google.colab.kernel.invokeFunction(\n",
              "                'suggestCharts', [key], {});\n",
              "          } catch (error) {\n",
              "            console.error('Error during call to suggestCharts:', error);\n",
              "          }\n",
              "          quickchartButtonEl.classList.remove('colab-df-spinner');\n",
              "          quickchartButtonEl.classList.add('colab-df-quickchart-complete');\n",
              "        }\n",
              "        (() => {\n",
              "          let quickchartButtonEl =\n",
              "            document.querySelector('#df-0eee7325-ea07-4dfe-8179-5237c4488f4a button');\n",
              "          quickchartButtonEl.style.display =\n",
              "            google.colab.kernel.accessAllowed ? 'block' : 'none';\n",
              "        })();\n",
              "      </script>\n",
              "    </div>\n",
              "\n",
              "    </div>\n",
              "  </div>\n"
            ],
            "application/vnd.google.colaboratory.intrinsic+json": {
              "type": "dataframe",
              "variable_name": "merged_df",
              "summary": "{\n  \"name\": \"merged_df\",\n  \"rows\": 33580,\n  \"fields\": [\n    {\n      \"column\": \"pr_id\",\n      \"properties\": {\n        \"dtype\": \"number\",\n        \"std\": 94511861,\n        \"min\": 2756921963,\n        \"max\": 3278236128,\n        \"num_unique_values\": 33580,\n        \"samples\": [\n          3237800841,\n          3252194549,\n          3136808302\n        ],\n        \"semantic_type\": \"\",\n        \"description\": \"\"\n      }\n    },\n    {\n      \"column\": \"total_additions\",\n      \"properties\": {\n        \"dtype\": \"number\",\n        \"std\": 6351.430489683884,\n        \"min\": 0.0,\n        \"max\": 631203.0,\n        \"num_unique_values\": 3235,\n        \"samples\": [\n          4823.0,\n          18557.0,\n          3878.0\n        ],\n        \"semantic_type\": \"\",\n        \"description\": \"\"\n      }\n    },\n    {\n      \"column\": \"total_deletions\",\n      \"properties\": {\n        \"dtype\": \"number\",\n        \"std\": 4835.8207588523255,\n        \"min\": 0.0,\n        \"max\": 640627.0,\n        \"num_unique_values\": 2147,\n        \"samples\": [\n          15550.0,\n          3440.0,\n          6974.0\n        ],\n        \"semantic_type\": \"\",\n        \"description\": \"\"\n      }\n    },\n    {\n      \"column\": \"files_touched\",\n      \"properties\": {\n        \"dtype\": \"number\",\n        \"std\": 44,\n        \"min\": 0,\n        \"max\": 1641,\n        \"num_unique_values\": 386,\n        \"samples\": [\n          87,\n          210,\n          170\n        ],\n        \"semantic_type\": \"\",\n        \"description\": \"\"\n      }\n    },\n    {\n      \"column\": \"total_changes\",\n      \"properties\": {\n        \"dtype\": \"number\",\n        \"std\": 9262.1591896964,\n        \"min\": 0.0,\n        \"max\": 653161.0,\n        \"num_unique_values\": 3752,\n        \"samples\": [\n          2770.0,\n          899.0,\n          5189.0\n        ],\n        \"semantic_type\": \"\",\n        \"description\": \"\"\n      }\n    },\n    {\n      \"column\": \"id\",\n      \"properties\": {\n        \"dtype\": \"number\",\n        \"std\": 94511861,\n        \"min\": 2756921963,\n        \"max\": 3278236128,\n        \"num_unique_values\": 33580,\n        \"samples\": [\n          3237800841,\n          3252194549,\n          3136808302\n        ],\n        \"semantic_type\": \"\",\n        \"description\": \"\"\n      }\n    },\n    {\n      \"column\": \"agent\",\n      \"properties\": {\n        \"dtype\": \"category\",\n        \"num_unique_values\": 5,\n        \"samples\": [\n          \"Cursor\",\n          \"OpenAI_Codex\",\n          \"Claude_Code\"\n        ],\n        \"semantic_type\": \"\",\n        \"description\": \"\"\n      }\n    },\n    {\n      \"column\": \"title\",\n      \"properties\": {\n        \"dtype\": \"string\",\n        \"num_unique_values\": 32317,\n        \"samples\": [\n          \"Update VM IR golden outputs\",\n          \"[Failed] Refactor: Create a composite GitHub Action for github-script usage and reuse it in workflows\",\n          \"feat: add send-as alias support with custom display names\"\n        ],\n        \"semantic_type\": \"\",\n        \"description\": \"\"\n      }\n    },\n    {\n      \"column\": \"body\",\n      \"properties\": {\n        \"dtype\": \"string\",\n        \"num_unique_values\": 32999,\n        \"samples\": [\n          \"\\n# Move enterprise docs from reflex-enterprise to reflex-web with proper dictionary escaping\\n\\n## Summary\\n\\nThis PR migrates all enterprise documentation from the `reflex-dev/reflex-enterprise` repository to `reflex-dev/reflex-web/docs/enterprise/`. The migration includes 28 documentation files covering AG Grid, AG Charts, Maps, Mantine components, drag-and-drop, and enterprise configuration features.\\n\\n**Key technical changes:**\\n- **Dictionary syntax escaping**: Systematically escaped dictionary literals in code blocks (e.g., `{\\\"key\\\": \\\"value\\\"}` \\u2192 `\\\\{\\\"key\\\": \\\"value\\\"}`) to prevent the flexdown parser from evaluating them as template expressions\\n- **Import statement updates**: Changed imports from `from flexd.flexd import docs` to `from pcweb.pages import docs` to match reflex-web structure\\n- **Code block type changes**: Converted some executable (`python demo exec`) blocks to display-only (`python`) blocks where enterprise components can't run in reflex-web environment\\n- **Sidebar navigation**: Added enterprise documentation sections to the sidebar (with some sections commented out to prevent import errors)\\n\\n## Review & Testing Checklist for Human\\n\\n**\\ud83d\\udd34 Critical - Must Test:**\\n- [ ] **Browser testing**: Navigate to `http://localhost:3000/docs/enterprise/` and verify all enterprise documentation pages load and render correctly\\n- [ ] **Dictionary syntax verification**: Check that escaped dictionaries display properly in code blocks (should show `{\\\"key\\\": \\\"value\\\"}` not error messages)\\n- [ ] **Import validation**: Verify that `from pcweb.pages import docs` imports work without runtime errors\\n- [ ] **Navigation testing**: Test sidebar navigation to enterprise docs and verify all internal links work\\n- [ ] **Interactive examples**: Test that code examples and interactive components render and function correctly\\n\\n**Recommended test plan:**\\n1. Start reflex server (`reflex run`) and navigate to enterprise docs\\n2. Click through all major sections: AG Grid, AG Charts, Maps, Mantine components\\n3. Verify code examples display correctly without syntax errors\\n4. Test a few interactive components to ensure they work\\n\\n---\\n\\n### Diagram\\n\\n```mermaid\\ngraph TB\\n    subgraph \\\"reflex-enterprise (source)\\\"\\n        RE[docs/] --> REFiles[28 enterprise docs]\\n    end\\n    \\n    subgraph \\\"reflex-web (destination)\\\"\\n        RW[docs/enterprise/] --> RWFiles[28 migrated docs]:::major-edit\\n        Sidebar[pcweb/components/docpage/sidebar/sidebar.py]:::major-edit\\n    end\\n    \\n    subgraph \\\"Key Changes\\\"\\n        Dict[Dictionary escaping<br/>{\\\"key\\\":\\\"value\\\"} \\u2192 \\\\{\\\"key\\\":\\\"value\\\"}]:::major-edit\\n        Import[Import updates<br/>flexd.flexd \\u2192 pcweb.pages]:::major-edit\\n        CodeBlock[Code block type changes<br/>exec \\u2192 display-only]:::minor-edit\\n    end\\n    \\n    REFiles -.->|migrate| RWFiles\\n    RWFiles --> Dict\\n    RWFiles --> Import  \\n    RWFiles --> CodeBlock\\n    \\n    subgraph Legend\\n        L1[Major Edit]:::major-edit\\n        L2[Minor Edit]:::minor-edit\\n        L3[Context/No Edit]:::context\\n    end\\n    \\n    classDef major-edit fill:#90EE90\\n    classDef minor-edit fill:#87CEEB\\n    classDef context fill:#FFFFFF\\n```\\n\\n### Notes\\n\\n**\\u26a0\\ufe0f Testing Limitation**: Due to server runtime issues (OSError with flexdown module cleanup), I was unable to fully test the enterprise documentation pages in the browser. While compilation succeeded (100% - 774/774 pages), the actual page rendering needs to be verified by the reviewer.\\n\\n**Technical Context**: The main challenge was that reflex-web's flexdown parser treats dictionary literals like `{\\\"key\\\": \\\"value\\\"}` as template expressions and tries to evaluate them, causing SyntaxError. The solution was to escape the braces with backslashes: `\\\\{\\\"key\\\": \\\"value\\\"}` which prevents parser evaluation while preserving the visual appearance in rendered docs.\\n\\n**Files Changed**: 29 files total - 28 new enterprise documentation files + 1 sidebar navigation update. All changes maintain the original documentation content while adapting it for the reflex-web environment.\\n\\n---\\n\\n**Link to Devin run**: https://app.devin.ai/sessions/37382e16e29044f896be52de63fb5e2b  \\n**Requested by**: @Alek99\\n\",\n          \"Addresses feedback from Lab 11 (Integrate Azure Key Vault with Azure DevOps) to improve clarity and reduce user confusion during pipeline setup and execution.\\n\\n## Changes Made\\n\\n### Task 1, Step 5 - Pipeline Creation Process\\n- Clarified that \\\"Save and Run\\\" may need to be clicked twice to complete pipeline creation\\n- Added instruction to click the build job to see permission messages\\n\\n### Task 2, Step 4 - Service Connection Authorization  \\n- Explained the authorization process for service connections\\n- Added guidance about clicking \\\"Authorize\\\" button when permissions errors occur\\n- Clarified that authorization automatically creates the access policy\\n\\n### Task 2, Step 9 - UI Field Name Correction\\n- Fixed table field name from \\\"Value\\\" to \\\"Secret value\\\" to match actual Azure portal UI\\n\\n### Task 4, Step 5 - CD Pipeline Creation\\n- Added clarification about potentially needing to click \\\"Save and Run\\\" twice\\n- Added instruction to click build job to see permission messages\\n\\n### Task 4, Step 6 - Grammar Improvement\\n- Fixed grammar: \\\"wait to execute successfully\\\" \\u2192 \\\"wait for it to execute successfully\\\"\\n\\n### Task 4, Step 8 - Verification Step (New)\\n- Added verification step to confirm successful deployment\\n- Instructs users to check Azure portal for the created container instance in the resource group\\n\\n## Impact\\nThese minimal changes improve the user experience by:\\n- Reducing confusion about pipeline creation workflow\\n- Providing clear guidance for authorization issues\\n- Matching actual Azure UI terminology\\n- Adding verification steps to confirm successful deployment\\n\\nFixes #655.\\n\\n<!-- START COPILOT CODING AGENT TIPS -->\\n---\\n\\n\\ud83d\\udcac Share your feedback on Copilot coding agent for the chance to win a $200 gift card! Click [here](https://survey.alchemer.com/s3/8343779/Copilot-Coding-agent) to start the survey.\",\n          \"## Summary\\n- ensure `inquirer` default export is used when running MFA helper\\n\\n## Testing\\n- `npm test`\\n- `npm run lint`\\n\\n\\n------\\nhttps://chatgpt.com/codex/tasks/task_e_686e86bac03c832dba3d4cc0988ec2d3\"\n        ],\n        \"semantic_type\": \"\",\n        \"description\": \"\"\n      }\n    }\n  ]\n}"
            }
          },
          "metadata": {},
          "execution_count": 22
        }
      ],
      "source": [
        "print(\"Merging with pull_request data...\")\n",
        "merged_df = pd.merge(pr_level_changes, df_pull_request[['id', 'agent', 'title', 'body']],\n",
        "                     left_on='pr_id', right_on='id', how='inner')\n",
        "merged_df.head(2)"
      ]
    },
    {
      "cell_type": "code",
      "execution_count": null,
      "id": "9c099bd8-8c93-4e61-bb6b-ad6d04f4dc83",
      "metadata": {
        "colab": {
          "base_uri": "https://localhost:8080/",
          "height": 199
        },
        "id": "9c099bd8-8c93-4e61-bb6b-ad6d04f4dc83",
        "outputId": "5552563e-4ac3-47bc-ab9d-2d8313139d6f"
      },
      "outputs": [
        {
          "output_type": "stream",
          "name": "stdout",
          "text": [
            "merged_df saved successfully to Google Drive.\n",
            "Final merged dataset shape: (33580, 10)\n",
            "Agents found: ['Devin', 'Cursor', 'Claude_Code', 'Copilot', 'OpenAI_Codex']\n"
          ]
        },
        {
          "output_type": "execute_result",
          "data": {
            "text/plain": [
              "        pr_id  total_additions  total_deletions  files_touched  total_changes  \\\n",
              "0  2756921963            848.0            344.0             15         1192.0   \n",
              "1  2757103560            517.0            262.0             16          779.0   \n",
              "\n",
              "           id  agent                                          title  \\\n",
              "0  2756921963  Devin                      Add LLM Integration Tests   \n",
              "1  2757103560  Devin  feat: add encryptStringAsync + refactor calls   \n",
              "\n",
              "                                                body  \\\n",
              "0  # 🔍 Review Summary \\n **Purpose**:\\n- Enhance ...   \n",
              "1  # Changes\\n- Added `encryptStringAsync` functi...   \n",
              "\n",
              "                                    full_description  \n",
              "0  Add LLM Integration Tests Review Summary Purpo...  \n",
              "1  feat add encryptStringAsync refactor calls Cha...  "
            ],
            "text/html": [
              "\n",
              "  <div id=\"df-aeabab22-019b-422d-810f-9495f06882f3\" class=\"colab-df-container\">\n",
              "    <div>\n",
              "<style scoped>\n",
              "    .dataframe tbody tr th:only-of-type {\n",
              "        vertical-align: middle;\n",
              "    }\n",
              "\n",
              "    .dataframe tbody tr th {\n",
              "        vertical-align: top;\n",
              "    }\n",
              "\n",
              "    .dataframe thead th {\n",
              "        text-align: right;\n",
              "    }\n",
              "</style>\n",
              "<table border=\"1\" class=\"dataframe\">\n",
              "  <thead>\n",
              "    <tr style=\"text-align: right;\">\n",
              "      <th></th>\n",
              "      <th>pr_id</th>\n",
              "      <th>total_additions</th>\n",
              "      <th>total_deletions</th>\n",
              "      <th>files_touched</th>\n",
              "      <th>total_changes</th>\n",
              "      <th>id</th>\n",
              "      <th>agent</th>\n",
              "      <th>title</th>\n",
              "      <th>body</th>\n",
              "      <th>full_description</th>\n",
              "    </tr>\n",
              "  </thead>\n",
              "  <tbody>\n",
              "    <tr>\n",
              "      <th>0</th>\n",
              "      <td>2756921963</td>\n",
              "      <td>848.0</td>\n",
              "      <td>344.0</td>\n",
              "      <td>15</td>\n",
              "      <td>1192.0</td>\n",
              "      <td>2756921963</td>\n",
              "      <td>Devin</td>\n",
              "      <td>Add LLM Integration Tests</td>\n",
              "      <td># 🔍 Review Summary \\n **Purpose**:\\n- Enhance ...</td>\n",
              "      <td>Add LLM Integration Tests Review Summary Purpo...</td>\n",
              "    </tr>\n",
              "    <tr>\n",
              "      <th>1</th>\n",
              "      <td>2757103560</td>\n",
              "      <td>517.0</td>\n",
              "      <td>262.0</td>\n",
              "      <td>16</td>\n",
              "      <td>779.0</td>\n",
              "      <td>2757103560</td>\n",
              "      <td>Devin</td>\n",
              "      <td>feat: add encryptStringAsync + refactor calls</td>\n",
              "      <td># Changes\\n- Added `encryptStringAsync` functi...</td>\n",
              "      <td>feat add encryptStringAsync refactor calls Cha...</td>\n",
              "    </tr>\n",
              "  </tbody>\n",
              "</table>\n",
              "</div>\n",
              "    <div class=\"colab-df-buttons\">\n",
              "\n",
              "  <div class=\"colab-df-container\">\n",
              "    <button class=\"colab-df-convert\" onclick=\"convertToInteractive('df-aeabab22-019b-422d-810f-9495f06882f3')\"\n",
              "            title=\"Convert this dataframe to an interactive table.\"\n",
              "            style=\"display:none;\">\n",
              "\n",
              "  <svg xmlns=\"http://www.w3.org/2000/svg\" height=\"24px\" viewBox=\"0 -960 960 960\">\n",
              "    <path d=\"M120-120v-720h720v720H120Zm60-500h600v-160H180v160Zm220 220h160v-160H400v160Zm0 220h160v-160H400v160ZM180-400h160v-160H180v160Zm440 0h160v-160H620v160ZM180-180h160v-160H180v160Zm440 0h160v-160H620v160Z\"/>\n",
              "  </svg>\n",
              "    </button>\n",
              "\n",
              "  <style>\n",
              "    .colab-df-container {\n",
              "      display:flex;\n",
              "      gap: 12px;\n",
              "    }\n",
              "\n",
              "    .colab-df-convert {\n",
              "      background-color: #E8F0FE;\n",
              "      border: none;\n",
              "      border-radius: 50%;\n",
              "      cursor: pointer;\n",
              "      display: none;\n",
              "      fill: #1967D2;\n",
              "      height: 32px;\n",
              "      padding: 0 0 0 0;\n",
              "      width: 32px;\n",
              "    }\n",
              "\n",
              "    .colab-df-convert:hover {\n",
              "      background-color: #E2EBFA;\n",
              "      box-shadow: 0px 1px 2px rgba(60, 64, 67, 0.3), 0px 1px 3px 1px rgba(60, 64, 67, 0.15);\n",
              "      fill: #174EA6;\n",
              "    }\n",
              "\n",
              "    .colab-df-buttons div {\n",
              "      margin-bottom: 4px;\n",
              "    }\n",
              "\n",
              "    [theme=dark] .colab-df-convert {\n",
              "      background-color: #3B4455;\n",
              "      fill: #D2E3FC;\n",
              "    }\n",
              "\n",
              "    [theme=dark] .colab-df-convert:hover {\n",
              "      background-color: #434B5C;\n",
              "      box-shadow: 0px 1px 3px 1px rgba(0, 0, 0, 0.15);\n",
              "      filter: drop-shadow(0px 1px 2px rgba(0, 0, 0, 0.3));\n",
              "      fill: #FFFFFF;\n",
              "    }\n",
              "  </style>\n",
              "\n",
              "    <script>\n",
              "      const buttonEl =\n",
              "        document.querySelector('#df-aeabab22-019b-422d-810f-9495f06882f3 button.colab-df-convert');\n",
              "      buttonEl.style.display =\n",
              "        google.colab.kernel.accessAllowed ? 'block' : 'none';\n",
              "\n",
              "      async function convertToInteractive(key) {\n",
              "        const element = document.querySelector('#df-aeabab22-019b-422d-810f-9495f06882f3');\n",
              "        const dataTable =\n",
              "          await google.colab.kernel.invokeFunction('convertToInteractive',\n",
              "                                                    [key], {});\n",
              "        if (!dataTable) return;\n",
              "\n",
              "        const docLinkHtml = 'Like what you see? Visit the ' +\n",
              "          '<a target=\"_blank\" href=https://colab.research.google.com/notebooks/data_table.ipynb>data table notebook</a>'\n",
              "          + ' to learn more about interactive tables.';\n",
              "        element.innerHTML = '';\n",
              "        dataTable['output_type'] = 'display_data';\n",
              "        await google.colab.output.renderOutput(dataTable, element);\n",
              "        const docLink = document.createElement('div');\n",
              "        docLink.innerHTML = docLinkHtml;\n",
              "        element.appendChild(docLink);\n",
              "      }\n",
              "    </script>\n",
              "  </div>\n",
              "\n",
              "\n",
              "    <div id=\"df-0edcaa1e-e098-4234-8837-392562457846\">\n",
              "      <button class=\"colab-df-quickchart\" onclick=\"quickchart('df-0edcaa1e-e098-4234-8837-392562457846')\"\n",
              "                title=\"Suggest charts\"\n",
              "                style=\"display:none;\">\n",
              "\n",
              "<svg xmlns=\"http://www.w3.org/2000/svg\" height=\"24px\"viewBox=\"0 0 24 24\"\n",
              "     width=\"24px\">\n",
              "    <g>\n",
              "        <path d=\"M19 3H5c-1.1 0-2 .9-2 2v14c0 1.1.9 2 2 2h14c1.1 0 2-.9 2-2V5c0-1.1-.9-2-2-2zM9 17H7v-7h2v7zm4 0h-2V7h2v10zm4 0h-2v-4h2v4z\"/>\n",
              "    </g>\n",
              "</svg>\n",
              "      </button>\n",
              "\n",
              "<style>\n",
              "  .colab-df-quickchart {\n",
              "      --bg-color: #E8F0FE;\n",
              "      --fill-color: #1967D2;\n",
              "      --hover-bg-color: #E2EBFA;\n",
              "      --hover-fill-color: #174EA6;\n",
              "      --disabled-fill-color: #AAA;\n",
              "      --disabled-bg-color: #DDD;\n",
              "  }\n",
              "\n",
              "  [theme=dark] .colab-df-quickchart {\n",
              "      --bg-color: #3B4455;\n",
              "      --fill-color: #D2E3FC;\n",
              "      --hover-bg-color: #434B5C;\n",
              "      --hover-fill-color: #FFFFFF;\n",
              "      --disabled-bg-color: #3B4455;\n",
              "      --disabled-fill-color: #666;\n",
              "  }\n",
              "\n",
              "  .colab-df-quickchart {\n",
              "    background-color: var(--bg-color);\n",
              "    border: none;\n",
              "    border-radius: 50%;\n",
              "    cursor: pointer;\n",
              "    display: none;\n",
              "    fill: var(--fill-color);\n",
              "    height: 32px;\n",
              "    padding: 0;\n",
              "    width: 32px;\n",
              "  }\n",
              "\n",
              "  .colab-df-quickchart:hover {\n",
              "    background-color: var(--hover-bg-color);\n",
              "    box-shadow: 0 1px 2px rgba(60, 64, 67, 0.3), 0 1px 3px 1px rgba(60, 64, 67, 0.15);\n",
              "    fill: var(--button-hover-fill-color);\n",
              "  }\n",
              "\n",
              "  .colab-df-quickchart-complete:disabled,\n",
              "  .colab-df-quickchart-complete:disabled:hover {\n",
              "    background-color: var(--disabled-bg-color);\n",
              "    fill: var(--disabled-fill-color);\n",
              "    box-shadow: none;\n",
              "  }\n",
              "\n",
              "  .colab-df-spinner {\n",
              "    border: 2px solid var(--fill-color);\n",
              "    border-color: transparent;\n",
              "    border-bottom-color: var(--fill-color);\n",
              "    animation:\n",
              "      spin 1s steps(1) infinite;\n",
              "  }\n",
              "\n",
              "  @keyframes spin {\n",
              "    0% {\n",
              "      border-color: transparent;\n",
              "      border-bottom-color: var(--fill-color);\n",
              "      border-left-color: var(--fill-color);\n",
              "    }\n",
              "    20% {\n",
              "      border-color: transparent;\n",
              "      border-left-color: var(--fill-color);\n",
              "      border-top-color: var(--fill-color);\n",
              "    }\n",
              "    30% {\n",
              "      border-color: transparent;\n",
              "      border-left-color: var(--fill-color);\n",
              "      border-top-color: var(--fill-color);\n",
              "      border-right-color: var(--fill-color);\n",
              "    }\n",
              "    40% {\n",
              "      border-color: transparent;\n",
              "      border-right-color: var(--fill-color);\n",
              "      border-top-color: var(--fill-color);\n",
              "    }\n",
              "    60% {\n",
              "      border-color: transparent;\n",
              "      border-right-color: var(--fill-color);\n",
              "    }\n",
              "    80% {\n",
              "      border-color: transparent;\n",
              "      border-right-color: var(--fill-color);\n",
              "      border-bottom-color: var(--fill-color);\n",
              "    }\n",
              "    90% {\n",
              "      border-color: transparent;\n",
              "      border-bottom-color: var(--fill-color);\n",
              "    }\n",
              "  }\n",
              "</style>\n",
              "\n",
              "      <script>\n",
              "        async function quickchart(key) {\n",
              "          const quickchartButtonEl =\n",
              "            document.querySelector('#' + key + ' button');\n",
              "          quickchartButtonEl.disabled = true;  // To prevent multiple clicks.\n",
              "          quickchartButtonEl.classList.add('colab-df-spinner');\n",
              "          try {\n",
              "            const charts = await google.colab.kernel.invokeFunction(\n",
              "                'suggestCharts', [key], {});\n",
              "          } catch (error) {\n",
              "            console.error('Error during call to suggestCharts:', error);\n",
              "          }\n",
              "          quickchartButtonEl.classList.remove('colab-df-spinner');\n",
              "          quickchartButtonEl.classList.add('colab-df-quickchart-complete');\n",
              "        }\n",
              "        (() => {\n",
              "          let quickchartButtonEl =\n",
              "            document.querySelector('#df-0edcaa1e-e098-4234-8837-392562457846 button');\n",
              "          quickchartButtonEl.style.display =\n",
              "            google.colab.kernel.accessAllowed ? 'block' : 'none';\n",
              "        })();\n",
              "      </script>\n",
              "    </div>\n",
              "\n",
              "    </div>\n",
              "  </div>\n"
            ],
            "application/vnd.google.colaboratory.intrinsic+json": {
              "type": "dataframe",
              "variable_name": "merged_df",
              "summary": "{\n  \"name\": \"merged_df\",\n  \"rows\": 33580,\n  \"fields\": [\n    {\n      \"column\": \"pr_id\",\n      \"properties\": {\n        \"dtype\": \"number\",\n        \"std\": 94511861,\n        \"min\": 2756921963,\n        \"max\": 3278236128,\n        \"num_unique_values\": 33580,\n        \"samples\": [\n          3237800841,\n          3252194549,\n          3136808302\n        ],\n        \"semantic_type\": \"\",\n        \"description\": \"\"\n      }\n    },\n    {\n      \"column\": \"total_additions\",\n      \"properties\": {\n        \"dtype\": \"number\",\n        \"std\": 6351.430489683884,\n        \"min\": 0.0,\n        \"max\": 631203.0,\n        \"num_unique_values\": 3235,\n        \"samples\": [\n          4823.0,\n          18557.0,\n          3878.0\n        ],\n        \"semantic_type\": \"\",\n        \"description\": \"\"\n      }\n    },\n    {\n      \"column\": \"total_deletions\",\n      \"properties\": {\n        \"dtype\": \"number\",\n        \"std\": 4835.8207588523255,\n        \"min\": 0.0,\n        \"max\": 640627.0,\n        \"num_unique_values\": 2147,\n        \"samples\": [\n          15550.0,\n          3440.0,\n          6974.0\n        ],\n        \"semantic_type\": \"\",\n        \"description\": \"\"\n      }\n    },\n    {\n      \"column\": \"files_touched\",\n      \"properties\": {\n        \"dtype\": \"number\",\n        \"std\": 44,\n        \"min\": 0,\n        \"max\": 1641,\n        \"num_unique_values\": 386,\n        \"samples\": [\n          87,\n          210,\n          170\n        ],\n        \"semantic_type\": \"\",\n        \"description\": \"\"\n      }\n    },\n    {\n      \"column\": \"total_changes\",\n      \"properties\": {\n        \"dtype\": \"number\",\n        \"std\": 9262.1591896964,\n        \"min\": 0.0,\n        \"max\": 653161.0,\n        \"num_unique_values\": 3752,\n        \"samples\": [\n          2770.0,\n          899.0,\n          5189.0\n        ],\n        \"semantic_type\": \"\",\n        \"description\": \"\"\n      }\n    },\n    {\n      \"column\": \"id\",\n      \"properties\": {\n        \"dtype\": \"number\",\n        \"std\": 94511861,\n        \"min\": 2756921963,\n        \"max\": 3278236128,\n        \"num_unique_values\": 33580,\n        \"samples\": [\n          3237800841,\n          3252194549,\n          3136808302\n        ],\n        \"semantic_type\": \"\",\n        \"description\": \"\"\n      }\n    },\n    {\n      \"column\": \"agent\",\n      \"properties\": {\n        \"dtype\": \"category\",\n        \"num_unique_values\": 5,\n        \"samples\": [\n          \"Cursor\",\n          \"OpenAI_Codex\",\n          \"Claude_Code\"\n        ],\n        \"semantic_type\": \"\",\n        \"description\": \"\"\n      }\n    },\n    {\n      \"column\": \"title\",\n      \"properties\": {\n        \"dtype\": \"string\",\n        \"num_unique_values\": 32317,\n        \"samples\": [\n          \"Update VM IR golden outputs\",\n          \"[Failed] Refactor: Create a composite GitHub Action for github-script usage and reuse it in workflows\",\n          \"feat: add send-as alias support with custom display names\"\n        ],\n        \"semantic_type\": \"\",\n        \"description\": \"\"\n      }\n    },\n    {\n      \"column\": \"body\",\n      \"properties\": {\n        \"dtype\": \"string\",\n        \"num_unique_values\": 32999,\n        \"samples\": [\n          \"\\n# Move enterprise docs from reflex-enterprise to reflex-web with proper dictionary escaping\\n\\n## Summary\\n\\nThis PR migrates all enterprise documentation from the `reflex-dev/reflex-enterprise` repository to `reflex-dev/reflex-web/docs/enterprise/`. The migration includes 28 documentation files covering AG Grid, AG Charts, Maps, Mantine components, drag-and-drop, and enterprise configuration features.\\n\\n**Key technical changes:**\\n- **Dictionary syntax escaping**: Systematically escaped dictionary literals in code blocks (e.g., `{\\\"key\\\": \\\"value\\\"}` \\u2192 `\\\\{\\\"key\\\": \\\"value\\\"}`) to prevent the flexdown parser from evaluating them as template expressions\\n- **Import statement updates**: Changed imports from `from flexd.flexd import docs` to `from pcweb.pages import docs` to match reflex-web structure\\n- **Code block type changes**: Converted some executable (`python demo exec`) blocks to display-only (`python`) blocks where enterprise components can't run in reflex-web environment\\n- **Sidebar navigation**: Added enterprise documentation sections to the sidebar (with some sections commented out to prevent import errors)\\n\\n## Review & Testing Checklist for Human\\n\\n**\\ud83d\\udd34 Critical - Must Test:**\\n- [ ] **Browser testing**: Navigate to `http://localhost:3000/docs/enterprise/` and verify all enterprise documentation pages load and render correctly\\n- [ ] **Dictionary syntax verification**: Check that escaped dictionaries display properly in code blocks (should show `{\\\"key\\\": \\\"value\\\"}` not error messages)\\n- [ ] **Import validation**: Verify that `from pcweb.pages import docs` imports work without runtime errors\\n- [ ] **Navigation testing**: Test sidebar navigation to enterprise docs and verify all internal links work\\n- [ ] **Interactive examples**: Test that code examples and interactive components render and function correctly\\n\\n**Recommended test plan:**\\n1. Start reflex server (`reflex run`) and navigate to enterprise docs\\n2. Click through all major sections: AG Grid, AG Charts, Maps, Mantine components\\n3. Verify code examples display correctly without syntax errors\\n4. Test a few interactive components to ensure they work\\n\\n---\\n\\n### Diagram\\n\\n```mermaid\\ngraph TB\\n    subgraph \\\"reflex-enterprise (source)\\\"\\n        RE[docs/] --> REFiles[28 enterprise docs]\\n    end\\n    \\n    subgraph \\\"reflex-web (destination)\\\"\\n        RW[docs/enterprise/] --> RWFiles[28 migrated docs]:::major-edit\\n        Sidebar[pcweb/components/docpage/sidebar/sidebar.py]:::major-edit\\n    end\\n    \\n    subgraph \\\"Key Changes\\\"\\n        Dict[Dictionary escaping<br/>{\\\"key\\\":\\\"value\\\"} \\u2192 \\\\{\\\"key\\\":\\\"value\\\"}]:::major-edit\\n        Import[Import updates<br/>flexd.flexd \\u2192 pcweb.pages]:::major-edit\\n        CodeBlock[Code block type changes<br/>exec \\u2192 display-only]:::minor-edit\\n    end\\n    \\n    REFiles -.->|migrate| RWFiles\\n    RWFiles --> Dict\\n    RWFiles --> Import  \\n    RWFiles --> CodeBlock\\n    \\n    subgraph Legend\\n        L1[Major Edit]:::major-edit\\n        L2[Minor Edit]:::minor-edit\\n        L3[Context/No Edit]:::context\\n    end\\n    \\n    classDef major-edit fill:#90EE90\\n    classDef minor-edit fill:#87CEEB\\n    classDef context fill:#FFFFFF\\n```\\n\\n### Notes\\n\\n**\\u26a0\\ufe0f Testing Limitation**: Due to server runtime issues (OSError with flexdown module cleanup), I was unable to fully test the enterprise documentation pages in the browser. While compilation succeeded (100% - 774/774 pages), the actual page rendering needs to be verified by the reviewer.\\n\\n**Technical Context**: The main challenge was that reflex-web's flexdown parser treats dictionary literals like `{\\\"key\\\": \\\"value\\\"}` as template expressions and tries to evaluate them, causing SyntaxError. The solution was to escape the braces with backslashes: `\\\\{\\\"key\\\": \\\"value\\\"}` which prevents parser evaluation while preserving the visual appearance in rendered docs.\\n\\n**Files Changed**: 29 files total - 28 new enterprise documentation files + 1 sidebar navigation update. All changes maintain the original documentation content while adapting it for the reflex-web environment.\\n\\n---\\n\\n**Link to Devin run**: https://app.devin.ai/sessions/37382e16e29044f896be52de63fb5e2b  \\n**Requested by**: @Alek99\\n\",\n          \"Addresses feedback from Lab 11 (Integrate Azure Key Vault with Azure DevOps) to improve clarity and reduce user confusion during pipeline setup and execution.\\n\\n## Changes Made\\n\\n### Task 1, Step 5 - Pipeline Creation Process\\n- Clarified that \\\"Save and Run\\\" may need to be clicked twice to complete pipeline creation\\n- Added instruction to click the build job to see permission messages\\n\\n### Task 2, Step 4 - Service Connection Authorization  \\n- Explained the authorization process for service connections\\n- Added guidance about clicking \\\"Authorize\\\" button when permissions errors occur\\n- Clarified that authorization automatically creates the access policy\\n\\n### Task 2, Step 9 - UI Field Name Correction\\n- Fixed table field name from \\\"Value\\\" to \\\"Secret value\\\" to match actual Azure portal UI\\n\\n### Task 4, Step 5 - CD Pipeline Creation\\n- Added clarification about potentially needing to click \\\"Save and Run\\\" twice\\n- Added instruction to click build job to see permission messages\\n\\n### Task 4, Step 6 - Grammar Improvement\\n- Fixed grammar: \\\"wait to execute successfully\\\" \\u2192 \\\"wait for it to execute successfully\\\"\\n\\n### Task 4, Step 8 - Verification Step (New)\\n- Added verification step to confirm successful deployment\\n- Instructs users to check Azure portal for the created container instance in the resource group\\n\\n## Impact\\nThese minimal changes improve the user experience by:\\n- Reducing confusion about pipeline creation workflow\\n- Providing clear guidance for authorization issues\\n- Matching actual Azure UI terminology\\n- Adding verification steps to confirm successful deployment\\n\\nFixes #655.\\n\\n<!-- START COPILOT CODING AGENT TIPS -->\\n---\\n\\n\\ud83d\\udcac Share your feedback on Copilot coding agent for the chance to win a $200 gift card! Click [here](https://survey.alchemer.com/s3/8343779/Copilot-Coding-agent) to start the survey.\",\n          \"## Summary\\n- ensure `inquirer` default export is used when running MFA helper\\n\\n## Testing\\n- `npm test`\\n- `npm run lint`\\n\\n\\n------\\nhttps://chatgpt.com/codex/tasks/task_e_686e86bac03c832dba3d4cc0988ec2d3\"\n        ],\n        \"semantic_type\": \"\",\n        \"description\": \"\"\n      }\n    },\n    {\n      \"column\": \"full_description\",\n      \"properties\": {\n        \"dtype\": \"string\",\n        \"num_unique_values\": 33140,\n        \"samples\": [\n          \"alpha factory expand OPA policies Summary block several new finance APIs and exfiltration commands check for exfiltration in the SafetyGuardianAgent document how to update and test Rego policies Testing pre commit run files alpha factory v1 demos alpha agi insight v1 src agents safety agent.py docs CHANGELOG.md docs POLICY RUNBOOK.md policies deny finance.rego policies deny exfil.rego src utils opa policy.py fails proto verify, requirements lock pytest q fails Environment check failed\",\n          \"Add regression test for timestamp map Summary add MapTimestampConversionTest to reproduce timestamp map handling document the new test in changelog Testing mvn q test fails command not found\",\n          \"Improve EventGroupBuilder documentation Notes Added builder pattern description with example usage. Documented defaults for every withX method and explained binding pauser effects. build javadoc now states the returned group is in NEW state. Testing mvn q verify failed mvn command not found\"\n        ],\n        \"semantic_type\": \"\",\n        \"description\": \"\"\n      }\n    }\n  ]\n}"
            }
          },
          "metadata": {},
          "execution_count": 23
        }
      ],
      "source": [
        "import re\n",
        "def clean_text(text):\n",
        "    if text is None:\n",
        "        return \"\"\n",
        "    text = str(text)\n",
        "    text = re.sub(r'http\\S+', '', text)\n",
        "    text = re.sub(r'[^a-zA-Z0-9\\s.,!?]', ' ', text)\n",
        "    text = re.sub(r'\\s+', ' ', text).strip()\n",
        "    return text\n",
        "\n",
        "merged_df['full_description'] = (merged_df['title'] + \" \" + merged_df['body']).apply(clean_text)\n",
        "\n",
        "merged_df.to_parquet('/content/drive/MyDrive/Research/AIDev/merged_data.parquet')\n",
        "print(\"merged_df saved successfully to Google Drive.\")\n",
        "\n",
        "print(f\"Final merged dataset shape: {merged_df.shape}\")\n",
        "print(f\"Agents found: {merged_df['agent'].unique().tolist()}\")\n",
        "merged_df.head(2)"
      ]
    },
    {
      "cell_type": "markdown",
      "id": "cb5ab035-78e0-449c-8047-7f3498492c54",
      "metadata": {
        "id": "cb5ab035-78e0-449c-8047-7f3498492c54"
      },
      "source": [
        "# Quantitative Analysis --> How do Agentic-PRs change code?"
      ]
    },
    {
      "cell_type": "code",
      "execution_count": null,
      "id": "d74f866c-8d46-4862-a81c-875ed2614c77",
      "metadata": {
        "colab": {
          "base_uri": "https://localhost:8080/"
        },
        "id": "d74f866c-8d46-4862-a81c-875ed2614c77",
        "outputId": "6c76112d-5eb7-4ca4-df30-04aa93d2c659"
      },
      "outputs": [
        {
          "output_type": "stream",
          "name": "stdout",
          "text": [
            "Overall Descriptive Statistics for Agentic-PRs:\n",
            "       total_additions  total_deletions  files_touched\n",
            "count     33580.000000     33580.000000   33580.000000\n",
            "mean        778.369476       375.521918      13.181001\n",
            "std        6351.430490      4835.820759      44.423422\n",
            "min           0.000000         0.000000       0.000000\n",
            "25%           5.000000         0.000000       1.000000\n",
            "50%          46.000000         5.000000       2.000000\n",
            "75%         175.000000        38.000000       7.000000\n",
            "max      631203.000000    640627.000000    1641.000000\n"
          ]
        }
      ],
      "source": [
        "quantitative_stats = merged_df[['total_additions', 'total_deletions', 'files_touched']].describe()\n",
        "print(\"Overall Descriptive Statistics for Agentic-PRs:\")\n",
        "print(quantitative_stats)"
      ]
    },
    {
      "cell_type": "code",
      "execution_count": null,
      "id": "d8fe9b07-6b1d-4820-9a00-4420837c238a",
      "metadata": {
        "colab": {
          "base_uri": "https://localhost:8080/"
        },
        "id": "d8fe9b07-6b1d-4820-9a00-4420837c238a",
        "outputId": "fd487a2b-d2f1-4efe-df42-0eb513f8c957"
      },
      "outputs": [
        {
          "output_type": "stream",
          "name": "stdout",
          "text": [
            "Code Change Characteristics by AI Agent:\n",
            "             total_additions                         total_deletions         \\\n",
            "                        mean median       std  count            mean median   \n",
            "agent                                                                         \n",
            "Claude_Code          6370.90  577.0  26458.16    458         2276.05   74.0   \n",
            "Copilot                 0.00    0.0      0.00   4967            0.00    0.0   \n",
            "Cursor               1856.87  201.0   7301.33   1540         1004.75   40.0   \n",
            "Devin                1699.10  117.5  11428.91   4822          981.68   27.0   \n",
            "OpenAI_Codex          558.31   59.0   3701.99  21793          242.58    6.0   \n",
            "\n",
            "                              files_touched                       \n",
            "                   std  count          mean median    std  count  \n",
            "agent                                                             \n",
            "Claude_Code   16011.83    458         34.14    8.0  67.87    458  \n",
            "Copilot           0.00   4967          0.00    0.0   0.00   4967  \n",
            "Cursor         5118.92   1540         18.36    4.0  54.87   1540  \n",
            "Devin         10214.95   4822         26.56    4.0  76.03   4822  \n",
            "OpenAI_Codex   2342.59  21793         12.42    3.0  36.90  21793  \n"
          ]
        }
      ],
      "source": [
        "agent_stats = merged_df.groupby('agent')[['total_additions', 'total_deletions', 'files_touched']].agg(\n",
        "    ['mean', 'median', 'std', 'count']\n",
        ").round(2)\n",
        "\n",
        "print(\"Code Change Characteristics by AI Agent:\")\n",
        "print(agent_stats)\n"
      ]
    },
    {
      "cell_type": "code",
      "execution_count": null,
      "id": "15ef5a8a-21c5-4ded-89e6-efcac59fbb64",
      "metadata": {
        "colab": {
          "base_uri": "https://localhost:8080/",
          "height": 1000
        },
        "id": "15ef5a8a-21c5-4ded-89e6-efcac59fbb64",
        "outputId": "7edbec31-dd35-4b9d-b2a8-cb8f8b401f49"
      },
      "outputs": [
        {
          "output_type": "display_data",
          "data": {
            "text/plain": [
              "<Figure size 1500x1200 with 4 Axes>"
            ],
            "image/png": "[encoded data removed]"
          },
          "metadata": {}
        }
      ],
      "source": [
        "fig, axes = plt.subplots(2, 2, figsize=(15, 12))\n",
        "\n",
        "# Additions distribution\n",
        "axes[0,0].hist(np.log1p(merged_df['total_additions']), bins=50, alpha=0.7, color='skyblue')\n",
        "axes[0,0].set_xlabel('Log(Total Additions + 1)')\n",
        "axes[0,0].set_ylabel('Frequency')\n",
        "axes[0,0].set_title('Distribution of Code Additions')\n",
        "\n",
        "# Deletions distribution\n",
        "axes[0,1].hist(np.log1p(merged_df['total_deletions']), bins=50, alpha=0.7, color='lightcoral')\n",
        "axes[0,1].set_xlabel('Log(Total Deletions + 1)')\n",
        "axes[0,1].set_title('Distribution of Code Deletions')\n",
        "\n",
        "# Files touched distribution\n",
        "axes[1,0].hist(np.log1p(merged_df['files_touched']), bins=50, alpha=0.7, color='lightgreen')\n",
        "axes[1,0].set_xlabel('Log(Files Touched + 1)')\n",
        "axes[1,0].set_ylabel('Frequency')\n",
        "axes[1,0].set_title('Distribution of Files Touched')\n",
        "\n",
        "# Agent comparison for files touched\n",
        "agent_files_data = []\n",
        "agents = []\n",
        "for agent, group in merged_df.groupby('agent'):\n",
        "    if len(group) > 100:\n",
        "        agent_files_data.append(group['files_touched'].values)\n",
        "        agents.append(agent)\n",
        "\n",
        "axes[1,1].boxplot(agent_files_data, labels=agents)\n",
        "axes[1,1].set_ylabel('Files Touched')\n",
        "axes[1,1].set_title('Files Touched by AI Agent')\n",
        "axes[1,1].tick_params(axis='x', rotation=45)\n"
      ]
    },
    {
      "cell_type": "code",
      "execution_count": null,
      "id": "f7aa49c5-1971-402e-ab96-01ec53b8d364",
      "metadata": {
        "colab": {
          "base_uri": "https://localhost:8080/",
          "height": 1000
        },
        "id": "f7aa49c5-1971-402e-ab96-01ec53b8d364",
        "outputId": "c1496193-3ae4-40b2-8d74-7f71e2122c40"
      },
      "outputs": [
        {
          "output_type": "stream",
          "name": "stdout",
          "text": [
            "Kruskal-Wallis Test for Differences Between Agents:\n",
            "======================================================\n",
            "| total_additions: H = 13194.32, || p = 0.000e+00 |\n",
            "______________________________________________\n",
            "| total_deletions: H = 10216.72, || p = 0.000e+00 |\n",
            "______________________________________________\n",
            "| files_touched: H = 13219.72, || p = 0.000e+00 |\n",
            "______________________________________________\n"
          ]
        },
        {
          "output_type": "display_data",
          "data": {
            "text/plain": [
              "<Figure size 1400x800 with 1 Axes>"
            ],
            "image/png": "[encoded data removed]"
          },
          "metadata": {}
        },
        {
          "output_type": "stream",
          "name": "stdout",
          "text": [
            "\n",
            "Statistical Results Summary:\n",
            "+------------------------------------------------------------+\n",
            "| Metric               | H-statistic     | p-value         |\n",
            "+------------------------------------------------------------+\n",
            "| Total Additions      | 13194.32        | <0.001          |\n",
            "| Total Deletions      | 10216.72        | <0.001          |\n",
            "| Files Touched        | 13219.72        | <0.001          |\n",
            "+------------------------------------------------------------+\n"
          ]
        }
      ],
      "source": [
        "\n",
        "stats_results = []\n",
        "for metric in ['total_additions', 'total_deletions', 'files_touched']:\n",
        "    agent_groups = [group[metric].values\n",
        "                    for agent, group in merged_df.groupby('agent') if len(group) > 100]\n",
        "    h_stat, p_value = stats.kruskal(*agent_groups)\n",
        "    stats_results.append({\"metric\": metric, \"H\": h_stat, \"p\": p_value})\n",
        "    print(f\"| {metric}: H = {h_stat:.2f}, || p = {p_value:.3e} |\")\n",
        "    print(\"______________________________________________\")\n",
        "\n",
        "agents_to_include = [agent for agent, group in merged_df.groupby('agent') if len(group) > 100]\n",
        "metrics = ['total_additions', 'total_deletions', 'files_touched']\n",
        "titles = ['Total Additions', 'Total Deletions', 'Files Touched']\n",
        "\n",
        "median_data = []\n",
        "for agent in agents_to_include:\n",
        "    agent_medians = {'Agent': agent}\n",
        "    for metric in metrics:\n",
        "        agent_data = merged_df[merged_df['agent'] == agent][metric]\n",
        "        agent_medians[metric] = agent_data.median()\n",
        "    median_data.append(agent_medians)\n",
        "\n",
        "median_df = pd.DataFrame(median_data)\n",
        "\n",
        "title_parts = []\n",
        "for res, title in zip(stats_results, titles):\n",
        "    h_val = f\"{res['H']:.2f}\"\n",
        "    p_val = \"<0.001\" if res['p'] < 0.001 else f\"{res['p']:.3f}\"\n",
        "    title_parts.append(f\"{title}: H={h_val}, p={p_val}\")\n",
        "\n",
        "title_text = \"Highly Significant Differences Between AI Agents\\n\" + \" | \".join(title_parts)\n",
        "\n",
        "fig, ax = plt.subplots(figsize=(14, 8))\n",
        "bar_width = 0.25\n",
        "x = np.arange(len(agents_to_include))\n",
        "colors = ['#1f77b4', '#ff7f0e', '#2ca02c']\n",
        "for i, metric in enumerate(metrics):\n",
        "    ax.bar(x + i * bar_width, median_df[metric], bar_width,\n",
        "            label=titles[i], color=colors[i], alpha=0.8)\n",
        "\n",
        "ax.set_title(title_text, fontsize=14, fontweight='bold', pad=20)\n",
        "ax.set_xlabel('AI Agent', fontsize=12)\n",
        "ax.set_ylabel('Median Value', fontsize=12)\n",
        "ax.set_xticks(x + bar_width)\n",
        "ax.set_xticklabels(agents_to_include, rotation=45, ha='right')\n",
        "ax.legend()\n",
        "ax.grid(True, alpha=0.3, axis='y')\n",
        "ax.set_axisbelow(True)\n",
        "\n",
        "for i, metric in enumerate(metrics):\n",
        "    for j, agent in enumerate(agents_to_include):\n",
        "        value = median_df[median_df['Agent'] == agent][metric].values[0]\n",
        "        ax.text(j + i * bar_width, value + max(median_df[metric]) * 0.01,\n",
        "                f'{value:.1f}', ha='center', va='bottom', fontsize=9)\n",
        "\n",
        "plt.tight_layout()\n",
        "plt.savefig('agent_comparison_statistical_significance.png', dpi=300, bbox_inches='tight')\n",
        "plt.show()\n",
        "\n",
        "print(\"\\nStatistical Results Summary:\")\n",
        "print(\"+\" + \"-\"*60 + \"+\")\n",
        "print(f\"| {'Metric':<20} | {'H-statistic':<15} | {'p-value':<15} |\")\n",
        "print(\"+\" + \"-\"*60 + \"+\")\n",
        "for res, title in zip(stats_results, titles):\n",
        "    h_val = f\"{res['H']:.2f}\"\n",
        "    p_val = \"<0.001\" if res['p'] < 0.001 else f\"{res['p']:.3f}\"\n",
        "    print(f\"| {title:<20} | {h_val:<15} | {p_val:<15} |\")\n",
        "print(\"+\" + \"-\"*60 + \"+\")\n"
      ]
    },
    {
      "cell_type": "code",
      "execution_count": null,
      "id": "71087f75-0e26-416a-b268-9d5b7d0ec347",
      "metadata": {
        "scrolled": true,
        "id": "71087f75-0e26-416a-b268-9d5b7d0ec347",
        "colab": {
          "base_uri": "https://localhost:8080/",
          "height": 902
        },
        "outputId": "bc661ed1-8069-4ded-92ef-4b399d7a6def"
      },
      "outputs": [
        {
          "output_type": "stream",
          "name": "stdout",
          "text": [
            "\n",
            "Pairwise comparisons for Files Touched\n",
            "+------------------------------------------------------------------------------------------+\n",
            "| Agent Pair                     | U Statistic  | p-value      | Cliff’s Delta   | Sig   |\n",
            "+------------------------------------------------------------------------------------------+\n",
            "| Claude_Code vs Copilot         |      2272402 |    0.000e+00 |           0.998 |   *** |\n",
            "| Claude_Code vs Cursor          |       441614 |    1.401e-16 |           0.252 |   *** |\n",
            "| Claude_Code vs Devin           |      1342738 |    1.323e-14 |           0.216 |   *** |\n",
            "| Claude_Code vs OpenAI_Codex    |      6773914 |    2.563e-40 |           0.357 |   *** |\n",
            "| Copilot vs Cursor              |            0 |    0.000e+00 |          -1.000 |   *** |\n",
            "| Copilot vs Devin               |        12418 |    0.000e+00 |          -0.999 |   *** |\n",
            "| Copilot vs OpenAI_Codex        |         9934 |    0.000e+00 |          -1.000 |   *** |\n",
            "| Cursor vs Devin                |      3604504 |        0.082 |          -0.029 |    ns |\n",
            "| Cursor vs OpenAI_Codex         |     18627218 |    2.292e-13 |           0.110 |   *** |\n",
            "| Devin vs OpenAI_Codex          |     59711665 |    3.881e-51 |           0.136 |   *** |\n",
            "+------------------------------------------------------------------------------------------+\n",
            "*** p < 0.001, ** p < 0.01, * p < 0.05, ns = not significant\n"
          ]
        },
        {
          "output_type": "display_data",
          "data": {
            "text/plain": [
              "<Figure size 1000x600 with 1 Axes>"
            ],
            "image/png": "[encoded data removed]"
          },
          "metadata": {}
        }
      ],
      "source": [
        ""
      ]
    }
  ],
  "metadata": {
    "kernelspec": {
      "display_name": "Python 3 (ipykernel)",
      "language": "python",
      "name": "python3"
    },
    "language_info": {
      "codemirror_mode": {
        "name": "ipython",
        "version": 3
      },
      "file_extension": ".py",
      "mimetype": "text/x-python",
      "name": "python",
      "nbconvert_exporter": "python",
      "pygments_lexer": "ipython3",
      "version": "3.11.7"
    },
    "colab": {
      "provenance": []
    }
  },
  "nbformat": 4,
  "nbformat_minor": 5
}